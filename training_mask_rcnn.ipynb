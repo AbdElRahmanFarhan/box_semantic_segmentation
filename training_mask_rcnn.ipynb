{
  "cells": [
    {
      "cell_type": "code",
      "execution_count": 1,
      "id": "539c4fcb",
      "metadata": {
        "colab": {
          "base_uri": "https://localhost:8080/"
        },
        "id": "539c4fcb",
        "outputId": "8619c642-7640-4ab8-aa3c-291e98b54186"
      },
      "outputs": [
        {
          "output_type": "stream",
          "name": "stdout",
          "text": [
            "Mounted at /content/drive\n"
          ]
        }
      ],
      "source": [
        "import os\n",
        "os.environ['CUDA_LAUNCH_BLOCKING'] = \"1\"\n",
        "\n",
        "from google.colab import drive\n",
        "drive.mount('/content/drive')"
      ]
    },
    {
      "cell_type": "code",
      "source": [
        "!pip install wandb"
      ],
      "metadata": {
        "colab": {
          "base_uri": "https://localhost:8080/"
        },
        "id": "axyPOQG1PhoC",
        "outputId": "c649c208-8a90-41e7-f301-cfabc5f35f72"
      },
      "id": "axyPOQG1PhoC",
      "execution_count": 2,
      "outputs": [
        {
          "output_type": "stream",
          "name": "stdout",
          "text": [
            "Requirement already satisfied: wandb in /usr/local/lib/python3.11/dist-packages (0.19.10)\n",
            "Requirement already satisfied: click!=8.0.0,>=7.1 in /usr/local/lib/python3.11/dist-packages (from wandb) (8.1.8)\n",
            "Requirement already satisfied: docker-pycreds>=0.4.0 in /usr/local/lib/python3.11/dist-packages (from wandb) (0.4.0)\n",
            "Requirement already satisfied: gitpython!=3.1.29,>=1.0.0 in /usr/local/lib/python3.11/dist-packages (from wandb) (3.1.44)\n",
            "Requirement already satisfied: platformdirs in /usr/local/lib/python3.11/dist-packages (from wandb) (4.3.7)\n",
            "Requirement already satisfied: protobuf!=4.21.0,!=5.28.0,<7,>=3.19.0 in /usr/local/lib/python3.11/dist-packages (from wandb) (5.29.4)\n",
            "Requirement already satisfied: psutil>=5.0.0 in /usr/local/lib/python3.11/dist-packages (from wandb) (5.9.5)\n",
            "Requirement already satisfied: pydantic<3 in /usr/local/lib/python3.11/dist-packages (from wandb) (2.11.3)\n",
            "Requirement already satisfied: pyyaml in /usr/local/lib/python3.11/dist-packages (from wandb) (6.0.2)\n",
            "Requirement already satisfied: requests<3,>=2.0.0 in /usr/local/lib/python3.11/dist-packages (from wandb) (2.32.3)\n",
            "Requirement already satisfied: sentry-sdk>=2.0.0 in /usr/local/lib/python3.11/dist-packages (from wandb) (2.27.0)\n",
            "Requirement already satisfied: setproctitle in /usr/local/lib/python3.11/dist-packages (from wandb) (1.3.6)\n",
            "Requirement already satisfied: setuptools in /usr/local/lib/python3.11/dist-packages (from wandb) (75.2.0)\n",
            "Requirement already satisfied: typing-extensions<5,>=4.4 in /usr/local/lib/python3.11/dist-packages (from wandb) (4.13.2)\n",
            "Requirement already satisfied: six>=1.4.0 in /usr/local/lib/python3.11/dist-packages (from docker-pycreds>=0.4.0->wandb) (1.17.0)\n",
            "Requirement already satisfied: gitdb<5,>=4.0.1 in /usr/local/lib/python3.11/dist-packages (from gitpython!=3.1.29,>=1.0.0->wandb) (4.0.12)\n",
            "Requirement already satisfied: annotated-types>=0.6.0 in /usr/local/lib/python3.11/dist-packages (from pydantic<3->wandb) (0.7.0)\n",
            "Requirement already satisfied: pydantic-core==2.33.1 in /usr/local/lib/python3.11/dist-packages (from pydantic<3->wandb) (2.33.1)\n",
            "Requirement already satisfied: typing-inspection>=0.4.0 in /usr/local/lib/python3.11/dist-packages (from pydantic<3->wandb) (0.4.0)\n",
            "Requirement already satisfied: charset-normalizer<4,>=2 in /usr/local/lib/python3.11/dist-packages (from requests<3,>=2.0.0->wandb) (3.4.1)\n",
            "Requirement already satisfied: idna<4,>=2.5 in /usr/local/lib/python3.11/dist-packages (from requests<3,>=2.0.0->wandb) (3.10)\n",
            "Requirement already satisfied: urllib3<3,>=1.21.1 in /usr/local/lib/python3.11/dist-packages (from requests<3,>=2.0.0->wandb) (2.4.0)\n",
            "Requirement already satisfied: certifi>=2017.4.17 in /usr/local/lib/python3.11/dist-packages (from requests<3,>=2.0.0->wandb) (2025.4.26)\n",
            "Requirement already satisfied: smmap<6,>=3.0.1 in /usr/local/lib/python3.11/dist-packages (from gitdb<5,>=4.0.1->gitpython!=3.1.29,>=1.0.0->wandb) (5.0.2)\n"
          ]
        }
      ]
    },
    {
      "cell_type": "code",
      "source": [
        "import zipfile\n",
        "\n",
        "zip_file_path = '/content/drive/MyDrive/OSCD.zip'\n",
        "dataset_folder = '/content/drive/MyDrive/OSCD/'\n",
        "\n",
        "if len(os.listdir(dataset_folder)) == 0:\n",
        "  with zipfile.ZipFile(zip_file_path, 'r') as zip_ref:\n",
        "      zip_ref.extractall(dataset_folder)\n",
        "\n",
        "  print(f\"Unzipped to: {dataset_folder}\")"
      ],
      "metadata": {
        "id": "tVioBrKYUq-B"
      },
      "id": "tVioBrKYUq-B",
      "execution_count": 3,
      "outputs": []
    },
    {
      "cell_type": "code",
      "source": [
        "import torch\n",
        "from torchvision import datasets, transforms\n",
        "from torch.utils.data import DataLoader\n",
        "import pathlib\n",
        "\n",
        "dataset_path = pathlib.Path(os.path.join(dataset_folder, 'labelme'))\n",
        "images_files = list(dataset_path.glob('**/*.jpg'))\n",
        "annotations_files = list(dataset_path.glob('**/*.json'))\n"
      ],
      "metadata": {
        "id": "I1nBV1DvVSIY"
      },
      "id": "I1nBV1DvVSIY",
      "execution_count": 4,
      "outputs": []
    },
    {
      "cell_type": "code",
      "source": [
        "import torch\n",
        "from torch.utils.data import Dataset, random_split\n",
        "from torchvision.io import read_image\n",
        "from torchvision.ops.boxes import masks_to_boxes\n",
        "from torchvision import tv_tensors\n",
        "from torchvision.tv_tensors import Mask, BoundingBoxes\n",
        "from torchvision.transforms.v2 import functional as F\n",
        "import json\n",
        "from torchvision import transforms\n",
        "import torchvision\n",
        "\n",
        "from PIL import Image, ImageDraw\n",
        "\n",
        "class OSCDDataset(Dataset):\n",
        "  def __init__(self, images_files, annotations_files, transforms=None):\n",
        "    super().__init__()\n",
        "    self._file_keys = [i.stem for i in images_files]\n",
        "    self._images_files = {i.stem: i for i in images_files}\n",
        "    self._annotations_files = {a.stem: a for a in annotations_files}\n",
        "    self._transforms = transforms\n",
        "\n",
        "  def __len__(self):\n",
        "    return len(self._file_keys)\n",
        "\n",
        "  def __getitem__(self, idx):\n",
        "    file_key = self._file_keys[idx]\n",
        "    image, annotations_dict = self._read_data(file_key)\n",
        "    shapes = annotations_dict['shapes']\n",
        "    if len(shapes) == 0:\n",
        "      target = self._get_background_only_target(image)\n",
        "      pass\n",
        "    else:\n",
        "      target = self._get_target(image, shapes)\n",
        "\n",
        "    # image = tv_tensors.Image(image)\n",
        "    if self._transforms:\n",
        "      image = self._transforms(image)\n",
        "    return image, target\n",
        "\n",
        "  def _read_data(self, file_key):\n",
        "    image_file = self._images_files[file_key]\n",
        "    image = Image.open(image_file).convert('RGB')\n",
        "\n",
        "    annotations_file = self._annotations_files[file_key]\n",
        "    with open(annotations_file, 'r') as f:\n",
        "      annotations_dict = json.load(f)\n",
        "\n",
        "    return image, annotations_dict\n",
        "\n",
        "  def _get_background_only_target(self, image):\n",
        "    mask_img = Image.new('L', image.size, 0)\n",
        "    # negative_mask = Mask(mask_img, dtype=torch.bool)\n",
        "    # bboxes = tv_tensors.BoundingBoxes([0, 0, image.size[0], image.size[1]], format=\"XYXY\", canvas_size=F.get_size(image))\n",
        "    # area = torch.tensor((image.size[0] * image.size[1]), dtype=torch.float32)\n",
        "    target = {\n",
        "        'boxes': torch.zeros((0, 4), dtype=torch.float32),\n",
        "        'labels': torch.zeros(0, dtype=torch.int64),\n",
        "        'masks': torch.zeros((0, image.size[1], image.size[0]), dtype=torch.bool),\n",
        "        'area': torch.zeros(0, dtype=torch.float32),\n",
        "        'iscrowd': torch.zeros(0, dtype=torch.int64),\n",
        "    }\n",
        "    return target\n",
        "\n",
        "  def _get_target(self, image, shapes):\n",
        "    labels = torch.ones((len(shapes), ), dtype=torch.int64)\n",
        "    shape_points = [shape['points'] for shape in shapes]\n",
        "    xy_coords = [[tuple(p) for p in points] for points in shape_points]\n",
        "    ### masks\n",
        "    masks = Mask(torch.concat([self._create_polygon_mask(image.size, xy) for xy in xy_coords]))\n",
        "    boxes = masks_to_boxes(masks)\n",
        "    area = (boxes[:, 3] - boxes[:, 1]) * (boxes[:, 2] - boxes[:, 0])\n",
        "    iscrowd = torch.zeros((len(shapes),), dtype=torch.int64)\n",
        "    bboxes = tv_tensors.BoundingBoxes(boxes, format=\"XYXY\", canvas_size=F.get_size(image))\n",
        "    target = {\n",
        "        'boxes': bboxes,\n",
        "        'labels': labels,\n",
        "        'masks': Mask(masks),\n",
        "        'area': area,\n",
        "        'iscrowd': iscrowd\n",
        "    }\n",
        "    return target\n",
        "\n",
        "  def _create_polygon_mask(self, image_size, vertices):\n",
        "    mask_img = Image.new('L', image_size, 0)\n",
        "    ImageDraw.Draw(mask_img, 'L').polygon(vertices, fill=(255))\n",
        "    mask = Mask(mask_img, dtype=torch.bool)\n",
        "    return mask"
      ],
      "metadata": {
        "id": "b8nnnWtw4QZ_"
      },
      "id": "b8nnnWtw4QZ_",
      "execution_count": 5,
      "outputs": []
    },
    {
      "cell_type": "code",
      "source": [
        "\n",
        "dataset = OSCDDataset(images_files, annotations_files, transforms=torchvision.transforms.ToTensor())\n",
        "size = len(dataset)\n",
        "train_size = int(0.8 * size)\n",
        "val_size = int(0.1 * size)\n",
        "test_size = size - train_size - val_size\n",
        "train_data, val_data, test_data = random_split(dataset, [train_size, val_size, test_size])"
      ],
      "metadata": {
        "id": "lfqBVyFN7_eL"
      },
      "id": "lfqBVyFN7_eL",
      "execution_count": 6,
      "outputs": []
    },
    {
      "cell_type": "code",
      "source": [
        "import torchvision\n",
        "from torchvision.models.detection.faster_rcnn import FastRCNNPredictor\n",
        "from torchvision.models.detection.mask_rcnn import MaskRCNNPredictor\n",
        "from torchvision.models.detection.rpn import RegionProposalNetwork\n",
        "from torchvision.models.detection.rpn import AnchorGenerator\n",
        "\n",
        "\n",
        "def create_model(num_classes=2):\n",
        "\n",
        "  model = torchvision.models.detection.maskrcnn_resnet50_fpn(weights=\"DEFAULT\")\n",
        "  in_features = model.roi_heads.box_predictor.cls_score.in_features\n",
        "  model.roi_heads.box_predictor = FastRCNNPredictor(in_features, num_classes)\n",
        "\n",
        "  in_features_mask = model.roi_heads.mask_predictor.conv5_mask.in_channels\n",
        "  model.roi_heads.mask_predictor = MaskRCNNPredictor(in_features_mask, 256, num_classes)\n",
        "  return model"
      ],
      "metadata": {
        "id": "UT10dgbvFYSc"
      },
      "id": "UT10dgbvFYSc",
      "execution_count": 7,
      "outputs": []
    },
    {
      "cell_type": "code",
      "source": [
        "device = torch.device('cuda') if torch.cuda.is_available() else torch.device('cpu')\n",
        "print(device)"
      ],
      "metadata": {
        "colab": {
          "base_uri": "https://localhost:8080/"
        },
        "id": "SvSSH7HbPIK_",
        "outputId": "0780820e-e2cf-4917-8748-91de7149d10b"
      },
      "id": "SvSSH7HbPIK_",
      "execution_count": 8,
      "outputs": [
        {
          "output_type": "stream",
          "name": "stdout",
          "text": [
            "cuda\n"
          ]
        }
      ]
    },
    {
      "cell_type": "code",
      "source": [
        "import math\n",
        "from tqdm.auto import tqdm\n",
        "\n",
        "from torch.amp import autocast, GradScaler\n",
        "\n",
        "def run_epoch(model, dataloader, optimizer, device, scaler, is_training):\n",
        "    model.train()\n",
        "    progress_bar = tqdm(total=len(dataloader), desc=\"Train\" if is_training else \"Valid\")  # Initialize a progress bar\n",
        "    epoch_total_loss = 0.\n",
        "    epoch_losses = {\n",
        "      'loss_classifier': 0,\n",
        "      'loss_box_reg': 0.,\n",
        "      'loss_mask': 0.,\n",
        "      'loss_objectness': 0.,\n",
        "      'loss_rpn_box_reg': 0.}\n",
        "    for batch_id, (images, targets) in enumerate(dataloader):\n",
        "\n",
        "        images = [image.to(device) for image in images]\n",
        "        targets = [{k: v.to(device) for k, v in t.items()} for t in targets]\n",
        "\n",
        "        with autocast(device_type=device.type, dtype=torch.bfloat16):\n",
        "            if is_training:\n",
        "                losses = model(images, targets)\n",
        "            else:\n",
        "                with torch.no_grad():\n",
        "                    losses = model(images, targets)\n",
        "\n",
        "            total_loss = sum([loss for loss in losses.values()])\n",
        "\n",
        "        if is_training:\n",
        "            optimizer.zero_grad()\n",
        "            if scaler:\n",
        "                scaler.scale(total_loss).backward()\n",
        "                scaler.step(optimizer)\n",
        "                scaler.update()\n",
        "            else:\n",
        "                total_loss.backward()\n",
        "                optimizer.step()\n",
        "\n",
        "        epoch_losses = {k: v.item() + epoch_losses[k] for k, v in losses.items()}\n",
        "        epoch_total_loss += total_loss.item()\n",
        "        progress_bar_dict = dict(avg_loss=epoch_total_loss/(batch_id+1))\n",
        "        progress_bar.set_postfix(progress_bar_dict)\n",
        "        progress_bar.update()\n",
        "        if is_training:\n",
        "          assert not math.isnan(total_loss.item()) and math.isfinite(total_loss.item()), \"Loss is NaN or infinite. Stopping training.\"\n",
        "    progress_bar.close()\n",
        "    epoch_losses = {k: v/(batch_id + 1) for k, v in epoch_losses.items()}\n",
        "    return epoch_losses"
      ],
      "metadata": {
        "id": "oCIJ0KD1PLPZ"
      },
      "id": "oCIJ0KD1PLPZ",
      "execution_count": 14,
      "outputs": []
    },
    {
      "cell_type": "code",
      "source": [
        "sweep_config = {\n",
        "    'method': 'random'\n",
        "    }\n",
        "\n",
        "metric = {\n",
        "    'name': 'valid/loss',\n",
        "    'goal': 'minimize'\n",
        "    }\n",
        "\n",
        "sweep_config['metric'] = metric\n",
        "parameters_dict = {\n",
        "    'epochs': {\n",
        "        'values': [10]\n",
        "        },\n",
        "    'lr': {\n",
        "        'values': [1e-4]\n",
        "        },\n",
        "    'weight_decay': {\n",
        "          'values': [1e-2]\n",
        "        },\n",
        "    'bs': {\n",
        "          'values': [2]\n",
        "        },\n",
        "    'save_model_every': {\n",
        "          'values': [10]\n",
        "        },\n",
        "    'scheduler': {\n",
        "          'values': ['step']\n",
        "        },\n",
        "    'step_size': {\n",
        "          'values': [40]\n",
        "        },\n",
        "    'gamma': {\n",
        "          'values': [0.1]\n",
        "        },\n",
        "    'optimizer_type': {\n",
        "          'values': ['adamw']\n",
        "        },\n",
        "    }\n",
        "sweep_config['parameters'] = parameters_dict"
      ],
      "metadata": {
        "id": "OihvSf4DPNnl"
      },
      "id": "OihvSf4DPNnl",
      "execution_count": 15,
      "outputs": []
    },
    {
      "cell_type": "code",
      "source": [
        "import wandb\n",
        "sweep_id = wandb.sweep(sweep_config, project=\"box_segmentation\")"
      ],
      "metadata": {
        "colab": {
          "base_uri": "https://localhost:8080/"
        },
        "id": "bmnZGnP3PYPn",
        "outputId": "35fa9f82-911b-49d1-86f5-56870eb03fcc"
      },
      "id": "bmnZGnP3PYPn",
      "execution_count": 16,
      "outputs": [
        {
          "output_type": "stream",
          "name": "stdout",
          "text": [
            "Create sweep with ID: lt594in8\n",
            "Sweep URL: https://wandb.ai/abdelrahman-farhan/box_segmentation/sweeps/lt594in8\n"
          ]
        }
      ]
    },
    {
      "cell_type": "code",
      "source": [
        "from torch.optim import AdamW\n",
        "import datetime\n",
        "import torchvision\n",
        "from torchvision.models.detection.faster_rcnn import FastRCNNPredictor\n",
        "from torchvision.models.detection.mask_rcnn import MaskRCNNPredictor\n",
        "\n",
        "\n",
        "num_workers = 12\n",
        "\n",
        "def train(config=None):\n",
        "  with wandb.init(config=config):\n",
        "    config = wandb.config\n",
        "\n",
        "    model = create_model()\n",
        "    model.to(device)\n",
        "    params = [p for p in model.parameters() if p.requires_grad]\n",
        "    optimizer_type = config.optimizer_type\n",
        "\n",
        "    if optimizer_type == 'sgd':\n",
        "      optimizer = torch.optim.SGD(params, lr=config.lr, momentum=0.9, weight_decay=config.weight_decay)\n",
        "    elif optimizer_type == 'adamw':\n",
        "      optimizer = torch.optim.AdamW(params, lr=config.lr, weight_decay=config.weight_decay)\n",
        "\n",
        "    if config.scheduler == 'step':\n",
        "      lr_scheduler = torch.optim.lr_scheduler.StepLR(optimizer, step_size=config.step_size, gamma=config.gamma)\n",
        "    elif config.scheduler == 'linear':\n",
        "      lr_scheduler = torch.optim.lr_scheduler.LinearLR(optimizer, start_factor=1.0, end_factor=0.1, total_iters=config.epochs)\n",
        "    elif config.scheduler == 'cyclic':\n",
        "      lr_scheduler = torch.optim.lr_scheduler.OneCycleLR(optimizer, max_lr=config.lr, total_steps=config.epochs)\n",
        "\n",
        "\n",
        "    train_loader = DataLoader(train_data, batch_size=config.bs, shuffle=True, collate_fn= lambda batch: tuple(zip(*batch)), num_workers=num_workers)\n",
        "    val_loader = DataLoader(val_data, batch_size=config.bs, shuffle=True, collate_fn= lambda batch: tuple(zip(*batch)), num_workers=num_workers)\n",
        "\n",
        "    scaler = GradScaler()\n",
        "    for epoch in tqdm(range(config.epochs), desc=\"Epochs\"):\n",
        "\n",
        "        train_losses = run_epoch(model, train_loader, optimizer, device, scaler, is_training=True)\n",
        "\n",
        "        with torch.no_grad():\n",
        "            valid_losses = run_epoch(model, val_loader, None, device, scaler, is_training=False)\n",
        "        lr_scheduler.step()\n",
        "\n",
        "        train_losses = {f'train/{k}': v for k, v in train_losses.items()}\n",
        "        wandb.log(train_losses)\n",
        "        train_loss = sum(train_losses.values())\n",
        "        wandb.log({'train/loss': train_loss})\n",
        "\n",
        "        valid_losses = {f'valid/{k}': v for k, v in valid_losses.items()}\n",
        "        wandb.log(valid_losses)\n",
        "        valid_loss = sum(valid_losses.values())\n",
        "        wandb.log({'valid/loss': valid_loss})\n",
        "\n",
        "        wandb.log({'lr': lr_scheduler.get_last_lr()[0]})\n",
        "        model_name = f'model_{wandb.run.name}_{wandb.run.sweep_id}_{epoch}.pth'\n",
        "        if (epoch+1) % config.save_model_every == 0:\n",
        "          model_path = os.path.join(dataset_folder, 'model', model_name)\n",
        "          torch.save(model.state_dict(), model_path)"
      ],
      "metadata": {
        "id": "61q_8uJuPaqD"
      },
      "id": "61q_8uJuPaqD",
      "execution_count": 17,
      "outputs": []
    },
    {
      "cell_type": "code",
      "source": [
        "wandb.agent(sweep_id, train, count=1)"
      ],
      "metadata": {
        "colab": {
          "base_uri": "https://localhost:8080/",
          "height": 1000,
          "referenced_widgets": [
            "3043593427db4b21a3f10c12f96edd5f",
            "fa11a9901b2649dc821dad9e4f4daee2",
            "9f73026c33e845bfa08b4e7d33fea613",
            "bec674257ce74b908acfc0c56eee5595",
            "c5cf9de0005342b2ae3ba34ddd1af8a2",
            "e420f3155853463d9e93116c0f298c0c",
            "a5d0b093aa914308823ec6d1167ef3b5",
            "ff0b13e2f1a8460390d62c34de5f1263",
            "d49fbdf7086b4da189030edcde6c01f7",
            "da5eac0460874726961fb764a7a94f46",
            "cf6eba523e8e47a8892f8f8abdd3d5ca",
            "93e2722ad200425abe42bd12c93ff781",
            "f6f6ef1f3bd0416497e451367b43bd8e",
            "fc6ec4dfe1bd48f88443e3a59d703e5b",
            "7b3c66bd1a0a4071924830b64dcd0867",
            "935db748315d405cb965343836e57923",
            "b2d1fd2a0f734e21899bbabbf33b3f7b",
            "e47aa439b1364faeb91960f09e49efa4",
            "66a4cc3f358b4c9bbc9126d6d546a23e",
            "2270fc8aa46b44edb2325074b92702d1",
            "4f4e49129ca240dc92c6e37ac372683c",
            "7eefe37cde8f47c1820bc68deba30c8c"
          ]
        },
        "id": "9JzMSBNMPeby",
        "outputId": "0dbaee11-4f27-44a8-8c00-531d0f8572e3"
      },
      "id": "9JzMSBNMPeby",
      "execution_count": 19,
      "outputs": [
        {
          "output_type": "stream",
          "name": "stderr",
          "text": [
            "\u001b[34m\u001b[1mwandb\u001b[0m: Agent Starting Run: ds41jnot with config:\n",
            "\u001b[34m\u001b[1mwandb\u001b[0m: \tbs: 2\n",
            "\u001b[34m\u001b[1mwandb\u001b[0m: \tepochs: 10\n",
            "\u001b[34m\u001b[1mwandb\u001b[0m: \tgamma: 0.1\n",
            "\u001b[34m\u001b[1mwandb\u001b[0m: \tlr: 0.0001\n",
            "\u001b[34m\u001b[1mwandb\u001b[0m: \toptimizer_type: adamw\n",
            "\u001b[34m\u001b[1mwandb\u001b[0m: \tsave_model_every: 10\n",
            "\u001b[34m\u001b[1mwandb\u001b[0m: \tscheduler: step\n",
            "\u001b[34m\u001b[1mwandb\u001b[0m: \tstep_size: 40\n",
            "\u001b[34m\u001b[1mwandb\u001b[0m: \tweight_decay: 0.01\n"
          ]
        },
        {
          "output_type": "display_data",
          "data": {
            "text/plain": [
              "<IPython.core.display.HTML object>"
            ],
            "text/html": [
              "Tracking run with wandb version 0.19.10"
            ]
          },
          "metadata": {}
        },
        {
          "output_type": "display_data",
          "data": {
            "text/plain": [
              "<IPython.core.display.HTML object>"
            ],
            "text/html": [
              "Run data is saved locally in <code>/content/wandb/run-20250503_180240-ds41jnot</code>"
            ]
          },
          "metadata": {}
        },
        {
          "output_type": "display_data",
          "data": {
            "text/plain": [
              "<IPython.core.display.HTML object>"
            ],
            "text/html": [
              "Syncing run <strong><a href='https://wandb.ai/abdelrahman-farhan/box_segmentation/runs/ds41jnot' target=\"_blank\">drawn-sweep-2</a></strong> to <a href='https://wandb.ai/abdelrahman-farhan/box_segmentation' target=\"_blank\">Weights & Biases</a> (<a href='https://wandb.me/developer-guide' target=\"_blank\">docs</a>)<br>Sweep page: <a href='https://wandb.ai/abdelrahman-farhan/box_segmentation/sweeps/lt594in8' target=\"_blank\">https://wandb.ai/abdelrahman-farhan/box_segmentation/sweeps/lt594in8</a>"
            ]
          },
          "metadata": {}
        },
        {
          "output_type": "display_data",
          "data": {
            "text/plain": [
              "<IPython.core.display.HTML object>"
            ],
            "text/html": [
              " View project at <a href='https://wandb.ai/abdelrahman-farhan/box_segmentation' target=\"_blank\">https://wandb.ai/abdelrahman-farhan/box_segmentation</a>"
            ]
          },
          "metadata": {}
        },
        {
          "output_type": "display_data",
          "data": {
            "text/plain": [
              "<IPython.core.display.HTML object>"
            ],
            "text/html": [
              " View sweep at <a href='https://wandb.ai/abdelrahman-farhan/box_segmentation/sweeps/lt594in8' target=\"_blank\">https://wandb.ai/abdelrahman-farhan/box_segmentation/sweeps/lt594in8</a>"
            ]
          },
          "metadata": {}
        },
        {
          "output_type": "display_data",
          "data": {
            "text/plain": [
              "<IPython.core.display.HTML object>"
            ],
            "text/html": [
              " View run at <a href='https://wandb.ai/abdelrahman-farhan/box_segmentation/runs/ds41jnot' target=\"_blank\">https://wandb.ai/abdelrahman-farhan/box_segmentation/runs/ds41jnot</a>"
            ]
          },
          "metadata": {}
        },
        {
          "output_type": "display_data",
          "data": {
            "text/plain": [
              "Epochs:   0%|          | 0/10 [00:00<?, ?it/s]"
            ],
            "application/vnd.jupyter.widget-view+json": {
              "version_major": 2,
              "version_minor": 0,
              "model_id": "3043593427db4b21a3f10c12f96edd5f"
            }
          },
          "metadata": {}
        },
        {
          "output_type": "display_data",
          "data": {
            "text/plain": [
              "Train:   0%|          | 0/3360 [00:00<?, ?it/s]"
            ],
            "application/vnd.jupyter.widget-view+json": {
              "version_major": 2,
              "version_minor": 0,
              "model_id": "93e2722ad200425abe42bd12c93ff781"
            }
          },
          "metadata": {}
        },
        {
          "output_type": "stream",
          "name": "stderr",
          "text": [
            "Traceback (most recent call last):\n",
            "  File \"<ipython-input-17-3864b8ec0b96>\", line 38, in train\n",
            "    train_losses = run_epoch(model, train_loader, optimizer, device, scaler, is_training=True)\n",
            "                   ^^^^^^^^^^^^^^^^^^^^^^^^^^^^^^^^^^^^^^^^^^^^^^^^^^^^^^^^^^^^^^^^^^^^^^^^^^^\n",
            "  File \"<ipython-input-14-963ed2c56681>\", line 16, in run_epoch\n",
            "    for batch_id, (images, targets) in enumerate(dataloader):\n",
            "  File \"/usr/local/lib/python3.11/dist-packages/torch/utils/data/dataloader.py\", line 708, in __next__\n",
            "    data = self._next_data()\n",
            "           ^^^^^^^^^^^^^^^^^\n",
            "  File \"/usr/local/lib/python3.11/dist-packages/torch/utils/data/dataloader.py\", line 1480, in _next_data\n",
            "    return self._process_data(data)\n",
            "           ^^^^^^^^^^^^^^^^^^^^^^^^\n",
            "  File \"/usr/local/lib/python3.11/dist-packages/torch/utils/data/dataloader.py\", line 1505, in _process_data\n",
            "    data.reraise()\n",
            "  File \"/usr/local/lib/python3.11/dist-packages/torch/_utils.py\", line 733, in reraise\n",
            "    raise exception\n",
            "RuntimeError: Caught RuntimeError in DataLoader worker process 6.\n",
            "Original Traceback (most recent call last):\n",
            "  File \"/usr/local/lib/python3.11/dist-packages/torch/utils/data/_utils/worker.py\", line 349, in _worker_loop\n",
            "    data = fetcher.fetch(index)  # type: ignore[possibly-undefined]\n",
            "           ^^^^^^^^^^^^^^^^^^^^\n",
            "  File \"/usr/local/lib/python3.11/dist-packages/torch/utils/data/_utils/fetch.py\", line 50, in fetch\n",
            "    data = self.dataset.__getitems__(possibly_batched_index)\n",
            "           ^^^^^^^^^^^^^^^^^^^^^^^^^^^^^^^^^^^^^^^^^^^^^^^^^\n",
            "  File \"/usr/local/lib/python3.11/dist-packages/torch/utils/data/dataset.py\", line 420, in __getitems__\n",
            "    return [self.dataset[self.indices[idx]] for idx in indices]\n",
            "           ^^^^^^^^^^^^^^^^^^^^^^^^^^^^^^^^^^^^^^^^^^^^^^^^^^^^\n",
            "  File \"/usr/local/lib/python3.11/dist-packages/torch/utils/data/dataset.py\", line 420, in <listcomp>\n",
            "    return [self.dataset[self.indices[idx]] for idx in indices]\n",
            "            ~~~~~~~~~~~~^^^^^^^^^^^^^^^^^^^\n",
            "  File \"<ipython-input-5-76c035f4baca>\", line 33, in __getitem__\n",
            "    target = self._get_target(image, shapes)\n",
            "             ^^^^^^^^^^^^^^^^^^^^^^^^^^^^^^^\n",
            "  File \"<ipython-input-5-76c035f4baca>\", line 70, in _get_target\n",
            "    boxes = masks_to_boxes(masks)\n",
            "            ^^^^^^^^^^^^^^^^^^^^^\n",
            "  File \"/usr/local/lib/python3.11/dist-packages/torchvision/ops/boxes.py\", line 434, in masks_to_boxes\n",
            "    bounding_boxes[index, 0] = torch.min(x)\n",
            "                               ^^^^^^^^^^^^\n",
            "RuntimeError: min(): Expected reduction dim to be specified for input.numel() == 0. Specify the reduction dim with the 'dim' argument.\n",
            "\n"
          ]
        },
        {
          "output_type": "display_data",
          "data": {
            "text/plain": [
              "<IPython.core.display.HTML object>"
            ],
            "text/html": []
          },
          "metadata": {}
        },
        {
          "output_type": "display_data",
          "data": {
            "text/plain": [
              "<IPython.core.display.HTML object>"
            ],
            "text/html": [
              " View run <strong style=\"color:#cdcd00\">drawn-sweep-2</strong> at: <a href='https://wandb.ai/abdelrahman-farhan/box_segmentation/runs/ds41jnot' target=\"_blank\">https://wandb.ai/abdelrahman-farhan/box_segmentation/runs/ds41jnot</a><br> View project at: <a href='https://wandb.ai/abdelrahman-farhan/box_segmentation' target=\"_blank\">https://wandb.ai/abdelrahman-farhan/box_segmentation</a><br>Synced 5 W&B file(s), 0 media file(s), 0 artifact file(s) and 0 other file(s)"
            ]
          },
          "metadata": {}
        },
        {
          "output_type": "display_data",
          "data": {
            "text/plain": [
              "<IPython.core.display.HTML object>"
            ],
            "text/html": [
              "Find logs at: <code>./wandb/run-20250503_180240-ds41jnot/logs</code>"
            ]
          },
          "metadata": {}
        },
        {
          "output_type": "stream",
          "name": "stderr",
          "text": [
            "\u001b[34m\u001b[1mwandb\u001b[0m: \u001b[32m\u001b[41mERROR\u001b[0m Run ds41jnot errored:\n",
            "\u001b[34m\u001b[1mwandb\u001b[0m: \u001b[32m\u001b[41mERROR\u001b[0m Traceback (most recent call last):\n",
            "\u001b[34m\u001b[1mwandb\u001b[0m: \u001b[32m\u001b[41mERROR\u001b[0m   File \"/usr/local/lib/python3.11/dist-packages/wandb/agents/pyagent.py\", line 306, in _run_job\n",
            "\u001b[34m\u001b[1mwandb\u001b[0m: \u001b[32m\u001b[41mERROR\u001b[0m     self._function()\n",
            "\u001b[34m\u001b[1mwandb\u001b[0m: \u001b[32m\u001b[41mERROR\u001b[0m   File \"<ipython-input-17-3864b8ec0b96>\", line 38, in train\n",
            "\u001b[34m\u001b[1mwandb\u001b[0m: \u001b[32m\u001b[41mERROR\u001b[0m     train_losses = run_epoch(model, train_loader, optimizer, device, scaler, is_training=True)\n",
            "\u001b[34m\u001b[1mwandb\u001b[0m: \u001b[32m\u001b[41mERROR\u001b[0m                    ^^^^^^^^^^^^^^^^^^^^^^^^^^^^^^^^^^^^^^^^^^^^^^^^^^^^^^^^^^^^^^^^^^^^^^^^^^^\n",
            "\u001b[34m\u001b[1mwandb\u001b[0m: \u001b[32m\u001b[41mERROR\u001b[0m   File \"<ipython-input-14-963ed2c56681>\", line 16, in run_epoch\n",
            "\u001b[34m\u001b[1mwandb\u001b[0m: \u001b[32m\u001b[41mERROR\u001b[0m     for batch_id, (images, targets) in enumerate(dataloader):\n",
            "\u001b[34m\u001b[1mwandb\u001b[0m: \u001b[32m\u001b[41mERROR\u001b[0m   File \"/usr/local/lib/python3.11/dist-packages/torch/utils/data/dataloader.py\", line 708, in __next__\n",
            "\u001b[34m\u001b[1mwandb\u001b[0m: \u001b[32m\u001b[41mERROR\u001b[0m     data = self._next_data()\n",
            "\u001b[34m\u001b[1mwandb\u001b[0m: \u001b[32m\u001b[41mERROR\u001b[0m            ^^^^^^^^^^^^^^^^^\n",
            "\u001b[34m\u001b[1mwandb\u001b[0m: \u001b[32m\u001b[41mERROR\u001b[0m   File \"/usr/local/lib/python3.11/dist-packages/torch/utils/data/dataloader.py\", line 1480, in _next_data\n",
            "\u001b[34m\u001b[1mwandb\u001b[0m: \u001b[32m\u001b[41mERROR\u001b[0m     return self._process_data(data)\n",
            "\u001b[34m\u001b[1mwandb\u001b[0m: \u001b[32m\u001b[41mERROR\u001b[0m            ^^^^^^^^^^^^^^^^^^^^^^^^\n",
            "\u001b[34m\u001b[1mwandb\u001b[0m: \u001b[32m\u001b[41mERROR\u001b[0m   File \"/usr/local/lib/python3.11/dist-packages/torch/utils/data/dataloader.py\", line 1505, in _process_data\n",
            "\u001b[34m\u001b[1mwandb\u001b[0m: \u001b[32m\u001b[41mERROR\u001b[0m     data.reraise()\n",
            "\u001b[34m\u001b[1mwandb\u001b[0m: \u001b[32m\u001b[41mERROR\u001b[0m   File \"/usr/local/lib/python3.11/dist-packages/torch/_utils.py\", line 733, in reraise\n",
            "\u001b[34m\u001b[1mwandb\u001b[0m: \u001b[32m\u001b[41mERROR\u001b[0m     raise exception\n",
            "\u001b[34m\u001b[1mwandb\u001b[0m: \u001b[32m\u001b[41mERROR\u001b[0m RuntimeError: Caught RuntimeError in DataLoader worker process 6.\n",
            "\u001b[34m\u001b[1mwandb\u001b[0m: \u001b[32m\u001b[41mERROR\u001b[0m Original Traceback (most recent call last):\n",
            "\u001b[34m\u001b[1mwandb\u001b[0m: \u001b[32m\u001b[41mERROR\u001b[0m   File \"/usr/local/lib/python3.11/dist-packages/torch/utils/data/_utils/worker.py\", line 349, in _worker_loop\n",
            "\u001b[34m\u001b[1mwandb\u001b[0m: \u001b[32m\u001b[41mERROR\u001b[0m     data = fetcher.fetch(index)  # type: ignore[possibly-undefined]\n",
            "\u001b[34m\u001b[1mwandb\u001b[0m: \u001b[32m\u001b[41mERROR\u001b[0m            ^^^^^^^^^^^^^^^^^^^^\n",
            "\u001b[34m\u001b[1mwandb\u001b[0m: \u001b[32m\u001b[41mERROR\u001b[0m   File \"/usr/local/lib/python3.11/dist-packages/torch/utils/data/_utils/fetch.py\", line 50, in fetch\n",
            "\u001b[34m\u001b[1mwandb\u001b[0m: \u001b[32m\u001b[41mERROR\u001b[0m     data = self.dataset.__getitems__(possibly_batched_index)\n",
            "\u001b[34m\u001b[1mwandb\u001b[0m: \u001b[32m\u001b[41mERROR\u001b[0m            ^^^^^^^^^^^^^^^^^^^^^^^^^^^^^^^^^^^^^^^^^^^^^^^^^\n",
            "\u001b[34m\u001b[1mwandb\u001b[0m: \u001b[32m\u001b[41mERROR\u001b[0m   File \"/usr/local/lib/python3.11/dist-packages/torch/utils/data/dataset.py\", line 420, in __getitems__\n",
            "\u001b[34m\u001b[1mwandb\u001b[0m: \u001b[32m\u001b[41mERROR\u001b[0m     return [self.dataset[self.indices[idx]] for idx in indices]\n",
            "\u001b[34m\u001b[1mwandb\u001b[0m: \u001b[32m\u001b[41mERROR\u001b[0m            ^^^^^^^^^^^^^^^^^^^^^^^^^^^^^^^^^^^^^^^^^^^^^^^^^^^^\n",
            "\u001b[34m\u001b[1mwandb\u001b[0m: \u001b[32m\u001b[41mERROR\u001b[0m   File \"/usr/local/lib/python3.11/dist-packages/torch/utils/data/dataset.py\", line 420, in <listcomp>\n",
            "\u001b[34m\u001b[1mwandb\u001b[0m: \u001b[32m\u001b[41mERROR\u001b[0m     return [self.dataset[self.indices[idx]] for idx in indices]\n",
            "\u001b[34m\u001b[1mwandb\u001b[0m: \u001b[32m\u001b[41mERROR\u001b[0m             ~~~~~~~~~~~~^^^^^^^^^^^^^^^^^^^\n",
            "\u001b[34m\u001b[1mwandb\u001b[0m: \u001b[32m\u001b[41mERROR\u001b[0m   File \"<ipython-input-5-76c035f4baca>\", line 33, in __getitem__\n",
            "\u001b[34m\u001b[1mwandb\u001b[0m: \u001b[32m\u001b[41mERROR\u001b[0m     target = self._get_target(image, shapes)\n",
            "\u001b[34m\u001b[1mwandb\u001b[0m: \u001b[32m\u001b[41mERROR\u001b[0m              ^^^^^^^^^^^^^^^^^^^^^^^^^^^^^^^\n",
            "\u001b[34m\u001b[1mwandb\u001b[0m: \u001b[32m\u001b[41mERROR\u001b[0m   File \"<ipython-input-5-76c035f4baca>\", line 70, in _get_target\n",
            "\u001b[34m\u001b[1mwandb\u001b[0m: \u001b[32m\u001b[41mERROR\u001b[0m     boxes = masks_to_boxes(masks)\n",
            "\u001b[34m\u001b[1mwandb\u001b[0m: \u001b[32m\u001b[41mERROR\u001b[0m             ^^^^^^^^^^^^^^^^^^^^^\n",
            "\u001b[34m\u001b[1mwandb\u001b[0m: \u001b[32m\u001b[41mERROR\u001b[0m   File \"/usr/local/lib/python3.11/dist-packages/torchvision/ops/boxes.py\", line 434, in masks_to_boxes\n",
            "\u001b[34m\u001b[1mwandb\u001b[0m: \u001b[32m\u001b[41mERROR\u001b[0m     bounding_boxes[index, 0] = torch.min(x)\n",
            "\u001b[34m\u001b[1mwandb\u001b[0m: \u001b[32m\u001b[41mERROR\u001b[0m                                ^^^^^^^^^^^^\n",
            "\u001b[34m\u001b[1mwandb\u001b[0m: \u001b[32m\u001b[41mERROR\u001b[0m RuntimeError: min(): Expected reduction dim to be specified for input.numel() == 0. Specify the reduction dim with the 'dim' argument.\n",
            "\u001b[34m\u001b[1mwandb\u001b[0m: \u001b[32m\u001b[41mERROR\u001b[0m \n",
            "\u001b[34m\u001b[1mwandb\u001b[0m: \u001b[32m\u001b[41mERROR\u001b[0m \n"
          ]
        }
      ]
    },
    {
      "cell_type": "code",
      "source": [],
      "metadata": {
        "id": "AwL4riTMQZMm"
      },
      "id": "AwL4riTMQZMm",
      "execution_count": 13,
      "outputs": []
    }
  ],
  "metadata": {
    "kernelspec": {
      "display_name": "Python 3",
      "name": "python3"
    },
    "language_info": {
      "codemirror_mode": {
        "name": "ipython",
        "version": 3
      },
      "file_extension": ".py",
      "mimetype": "text/x-python",
      "name": "python",
      "nbconvert_exporter": "python",
      "pygments_lexer": "ipython3",
      "version": "3.8.10"
    },
    "colab": {
      "provenance": []
    },
    "widgets": {
      "application/vnd.jupyter.widget-state+json": {
        "3043593427db4b21a3f10c12f96edd5f": {
          "model_module": "@jupyter-widgets/controls",
          "model_name": "HBoxModel",
          "model_module_version": "1.5.0",
          "state": {
            "_dom_classes": [],
            "_model_module": "@jupyter-widgets/controls",
            "_model_module_version": "1.5.0",
            "_model_name": "HBoxModel",
            "_view_count": null,
            "_view_module": "@jupyter-widgets/controls",
            "_view_module_version": "1.5.0",
            "_view_name": "HBoxView",
            "box_style": "",
            "children": [
              "IPY_MODEL_fa11a9901b2649dc821dad9e4f4daee2",
              "IPY_MODEL_9f73026c33e845bfa08b4e7d33fea613",
              "IPY_MODEL_bec674257ce74b908acfc0c56eee5595"
            ],
            "layout": "IPY_MODEL_c5cf9de0005342b2ae3ba34ddd1af8a2"
          }
        },
        "fa11a9901b2649dc821dad9e4f4daee2": {
          "model_module": "@jupyter-widgets/controls",
          "model_name": "HTMLModel",
          "model_module_version": "1.5.0",
          "state": {
            "_dom_classes": [],
            "_model_module": "@jupyter-widgets/controls",
            "_model_module_version": "1.5.0",
            "_model_name": "HTMLModel",
            "_view_count": null,
            "_view_module": "@jupyter-widgets/controls",
            "_view_module_version": "1.5.0",
            "_view_name": "HTMLView",
            "description": "",
            "description_tooltip": null,
            "layout": "IPY_MODEL_e420f3155853463d9e93116c0f298c0c",
            "placeholder": "​",
            "style": "IPY_MODEL_a5d0b093aa914308823ec6d1167ef3b5",
            "value": "Epochs:   0%"
          }
        },
        "9f73026c33e845bfa08b4e7d33fea613": {
          "model_module": "@jupyter-widgets/controls",
          "model_name": "FloatProgressModel",
          "model_module_version": "1.5.0",
          "state": {
            "_dom_classes": [],
            "_model_module": "@jupyter-widgets/controls",
            "_model_module_version": "1.5.0",
            "_model_name": "FloatProgressModel",
            "_view_count": null,
            "_view_module": "@jupyter-widgets/controls",
            "_view_module_version": "1.5.0",
            "_view_name": "ProgressView",
            "bar_style": "danger",
            "description": "",
            "description_tooltip": null,
            "layout": "IPY_MODEL_ff0b13e2f1a8460390d62c34de5f1263",
            "max": 10,
            "min": 0,
            "orientation": "horizontal",
            "style": "IPY_MODEL_d49fbdf7086b4da189030edcde6c01f7",
            "value": 0
          }
        },
        "bec674257ce74b908acfc0c56eee5595": {
          "model_module": "@jupyter-widgets/controls",
          "model_name": "HTMLModel",
          "model_module_version": "1.5.0",
          "state": {
            "_dom_classes": [],
            "_model_module": "@jupyter-widgets/controls",
            "_model_module_version": "1.5.0",
            "_model_name": "HTMLModel",
            "_view_count": null,
            "_view_module": "@jupyter-widgets/controls",
            "_view_module_version": "1.5.0",
            "_view_name": "HTMLView",
            "description": "",
            "description_tooltip": null,
            "layout": "IPY_MODEL_da5eac0460874726961fb764a7a94f46",
            "placeholder": "​",
            "style": "IPY_MODEL_cf6eba523e8e47a8892f8f8abdd3d5ca",
            "value": " 0/10 [00:16&lt;?, ?it/s]"
          }
        },
        "c5cf9de0005342b2ae3ba34ddd1af8a2": {
          "model_module": "@jupyter-widgets/base",
          "model_name": "LayoutModel",
          "model_module_version": "1.2.0",
          "state": {
            "_model_module": "@jupyter-widgets/base",
            "_model_module_version": "1.2.0",
            "_model_name": "LayoutModel",
            "_view_count": null,
            "_view_module": "@jupyter-widgets/base",
            "_view_module_version": "1.2.0",
            "_view_name": "LayoutView",
            "align_content": null,
            "align_items": null,
            "align_self": null,
            "border": null,
            "bottom": null,
            "display": null,
            "flex": null,
            "flex_flow": null,
            "grid_area": null,
            "grid_auto_columns": null,
            "grid_auto_flow": null,
            "grid_auto_rows": null,
            "grid_column": null,
            "grid_gap": null,
            "grid_row": null,
            "grid_template_areas": null,
            "grid_template_columns": null,
            "grid_template_rows": null,
            "height": null,
            "justify_content": null,
            "justify_items": null,
            "left": null,
            "margin": null,
            "max_height": null,
            "max_width": null,
            "min_height": null,
            "min_width": null,
            "object_fit": null,
            "object_position": null,
            "order": null,
            "overflow": null,
            "overflow_x": null,
            "overflow_y": null,
            "padding": null,
            "right": null,
            "top": null,
            "visibility": null,
            "width": null
          }
        },
        "e420f3155853463d9e93116c0f298c0c": {
          "model_module": "@jupyter-widgets/base",
          "model_name": "LayoutModel",
          "model_module_version": "1.2.0",
          "state": {
            "_model_module": "@jupyter-widgets/base",
            "_model_module_version": "1.2.0",
            "_model_name": "LayoutModel",
            "_view_count": null,
            "_view_module": "@jupyter-widgets/base",
            "_view_module_version": "1.2.0",
            "_view_name": "LayoutView",
            "align_content": null,
            "align_items": null,
            "align_self": null,
            "border": null,
            "bottom": null,
            "display": null,
            "flex": null,
            "flex_flow": null,
            "grid_area": null,
            "grid_auto_columns": null,
            "grid_auto_flow": null,
            "grid_auto_rows": null,
            "grid_column": null,
            "grid_gap": null,
            "grid_row": null,
            "grid_template_areas": null,
            "grid_template_columns": null,
            "grid_template_rows": null,
            "height": null,
            "justify_content": null,
            "justify_items": null,
            "left": null,
            "margin": null,
            "max_height": null,
            "max_width": null,
            "min_height": null,
            "min_width": null,
            "object_fit": null,
            "object_position": null,
            "order": null,
            "overflow": null,
            "overflow_x": null,
            "overflow_y": null,
            "padding": null,
            "right": null,
            "top": null,
            "visibility": null,
            "width": null
          }
        },
        "a5d0b093aa914308823ec6d1167ef3b5": {
          "model_module": "@jupyter-widgets/controls",
          "model_name": "DescriptionStyleModel",
          "model_module_version": "1.5.0",
          "state": {
            "_model_module": "@jupyter-widgets/controls",
            "_model_module_version": "1.5.0",
            "_model_name": "DescriptionStyleModel",
            "_view_count": null,
            "_view_module": "@jupyter-widgets/base",
            "_view_module_version": "1.2.0",
            "_view_name": "StyleView",
            "description_width": ""
          }
        },
        "ff0b13e2f1a8460390d62c34de5f1263": {
          "model_module": "@jupyter-widgets/base",
          "model_name": "LayoutModel",
          "model_module_version": "1.2.0",
          "state": {
            "_model_module": "@jupyter-widgets/base",
            "_model_module_version": "1.2.0",
            "_model_name": "LayoutModel",
            "_view_count": null,
            "_view_module": "@jupyter-widgets/base",
            "_view_module_version": "1.2.0",
            "_view_name": "LayoutView",
            "align_content": null,
            "align_items": null,
            "align_self": null,
            "border": null,
            "bottom": null,
            "display": null,
            "flex": null,
            "flex_flow": null,
            "grid_area": null,
            "grid_auto_columns": null,
            "grid_auto_flow": null,
            "grid_auto_rows": null,
            "grid_column": null,
            "grid_gap": null,
            "grid_row": null,
            "grid_template_areas": null,
            "grid_template_columns": null,
            "grid_template_rows": null,
            "height": null,
            "justify_content": null,
            "justify_items": null,
            "left": null,
            "margin": null,
            "max_height": null,
            "max_width": null,
            "min_height": null,
            "min_width": null,
            "object_fit": null,
            "object_position": null,
            "order": null,
            "overflow": null,
            "overflow_x": null,
            "overflow_y": null,
            "padding": null,
            "right": null,
            "top": null,
            "visibility": null,
            "width": null
          }
        },
        "d49fbdf7086b4da189030edcde6c01f7": {
          "model_module": "@jupyter-widgets/controls",
          "model_name": "ProgressStyleModel",
          "model_module_version": "1.5.0",
          "state": {
            "_model_module": "@jupyter-widgets/controls",
            "_model_module_version": "1.5.0",
            "_model_name": "ProgressStyleModel",
            "_view_count": null,
            "_view_module": "@jupyter-widgets/base",
            "_view_module_version": "1.2.0",
            "_view_name": "StyleView",
            "bar_color": null,
            "description_width": ""
          }
        },
        "da5eac0460874726961fb764a7a94f46": {
          "model_module": "@jupyter-widgets/base",
          "model_name": "LayoutModel",
          "model_module_version": "1.2.0",
          "state": {
            "_model_module": "@jupyter-widgets/base",
            "_model_module_version": "1.2.0",
            "_model_name": "LayoutModel",
            "_view_count": null,
            "_view_module": "@jupyter-widgets/base",
            "_view_module_version": "1.2.0",
            "_view_name": "LayoutView",
            "align_content": null,
            "align_items": null,
            "align_self": null,
            "border": null,
            "bottom": null,
            "display": null,
            "flex": null,
            "flex_flow": null,
            "grid_area": null,
            "grid_auto_columns": null,
            "grid_auto_flow": null,
            "grid_auto_rows": null,
            "grid_column": null,
            "grid_gap": null,
            "grid_row": null,
            "grid_template_areas": null,
            "grid_template_columns": null,
            "grid_template_rows": null,
            "height": null,
            "justify_content": null,
            "justify_items": null,
            "left": null,
            "margin": null,
            "max_height": null,
            "max_width": null,
            "min_height": null,
            "min_width": null,
            "object_fit": null,
            "object_position": null,
            "order": null,
            "overflow": null,
            "overflow_x": null,
            "overflow_y": null,
            "padding": null,
            "right": null,
            "top": null,
            "visibility": null,
            "width": null
          }
        },
        "cf6eba523e8e47a8892f8f8abdd3d5ca": {
          "model_module": "@jupyter-widgets/controls",
          "model_name": "DescriptionStyleModel",
          "model_module_version": "1.5.0",
          "state": {
            "_model_module": "@jupyter-widgets/controls",
            "_model_module_version": "1.5.0",
            "_model_name": "DescriptionStyleModel",
            "_view_count": null,
            "_view_module": "@jupyter-widgets/base",
            "_view_module_version": "1.2.0",
            "_view_name": "StyleView",
            "description_width": ""
          }
        },
        "93e2722ad200425abe42bd12c93ff781": {
          "model_module": "@jupyter-widgets/controls",
          "model_name": "HBoxModel",
          "model_module_version": "1.5.0",
          "state": {
            "_dom_classes": [],
            "_model_module": "@jupyter-widgets/controls",
            "_model_module_version": "1.5.0",
            "_model_name": "HBoxModel",
            "_view_count": null,
            "_view_module": "@jupyter-widgets/controls",
            "_view_module_version": "1.5.0",
            "_view_name": "HBoxView",
            "box_style": "",
            "children": [
              "IPY_MODEL_f6f6ef1f3bd0416497e451367b43bd8e",
              "IPY_MODEL_fc6ec4dfe1bd48f88443e3a59d703e5b",
              "IPY_MODEL_7b3c66bd1a0a4071924830b64dcd0867"
            ],
            "layout": "IPY_MODEL_935db748315d405cb965343836e57923"
          }
        },
        "f6f6ef1f3bd0416497e451367b43bd8e": {
          "model_module": "@jupyter-widgets/controls",
          "model_name": "HTMLModel",
          "model_module_version": "1.5.0",
          "state": {
            "_dom_classes": [],
            "_model_module": "@jupyter-widgets/controls",
            "_model_module_version": "1.5.0",
            "_model_name": "HTMLModel",
            "_view_count": null,
            "_view_module": "@jupyter-widgets/controls",
            "_view_module_version": "1.5.0",
            "_view_name": "HTMLView",
            "description": "",
            "description_tooltip": null,
            "layout": "IPY_MODEL_b2d1fd2a0f734e21899bbabbf33b3f7b",
            "placeholder": "​",
            "style": "IPY_MODEL_e47aa439b1364faeb91960f09e49efa4",
            "value": "Train:   2%"
          }
        },
        "fc6ec4dfe1bd48f88443e3a59d703e5b": {
          "model_module": "@jupyter-widgets/controls",
          "model_name": "FloatProgressModel",
          "model_module_version": "1.5.0",
          "state": {
            "_dom_classes": [],
            "_model_module": "@jupyter-widgets/controls",
            "_model_module_version": "1.5.0",
            "_model_name": "FloatProgressModel",
            "_view_count": null,
            "_view_module": "@jupyter-widgets/controls",
            "_view_module_version": "1.5.0",
            "_view_name": "ProgressView",
            "bar_style": "",
            "description": "",
            "description_tooltip": null,
            "layout": "IPY_MODEL_66a4cc3f358b4c9bbc9126d6d546a23e",
            "max": 3360,
            "min": 0,
            "orientation": "horizontal",
            "style": "IPY_MODEL_2270fc8aa46b44edb2325074b92702d1",
            "value": 78
          }
        },
        "7b3c66bd1a0a4071924830b64dcd0867": {
          "model_module": "@jupyter-widgets/controls",
          "model_name": "HTMLModel",
          "model_module_version": "1.5.0",
          "state": {
            "_dom_classes": [],
            "_model_module": "@jupyter-widgets/controls",
            "_model_module_version": "1.5.0",
            "_model_name": "HTMLModel",
            "_view_count": null,
            "_view_module": "@jupyter-widgets/controls",
            "_view_module_version": "1.5.0",
            "_view_name": "HTMLView",
            "description": "",
            "description_tooltip": null,
            "layout": "IPY_MODEL_4f4e49129ca240dc92c6e37ac372683c",
            "placeholder": "​",
            "style": "IPY_MODEL_7eefe37cde8f47c1820bc68deba30c8c",
            "value": " 78/3360 [00:16&lt;09:35,  5.70it/s, avg_loss=1.15]"
          }
        },
        "935db748315d405cb965343836e57923": {
          "model_module": "@jupyter-widgets/base",
          "model_name": "LayoutModel",
          "model_module_version": "1.2.0",
          "state": {
            "_model_module": "@jupyter-widgets/base",
            "_model_module_version": "1.2.0",
            "_model_name": "LayoutModel",
            "_view_count": null,
            "_view_module": "@jupyter-widgets/base",
            "_view_module_version": "1.2.0",
            "_view_name": "LayoutView",
            "align_content": null,
            "align_items": null,
            "align_self": null,
            "border": null,
            "bottom": null,
            "display": null,
            "flex": null,
            "flex_flow": null,
            "grid_area": null,
            "grid_auto_columns": null,
            "grid_auto_flow": null,
            "grid_auto_rows": null,
            "grid_column": null,
            "grid_gap": null,
            "grid_row": null,
            "grid_template_areas": null,
            "grid_template_columns": null,
            "grid_template_rows": null,
            "height": null,
            "justify_content": null,
            "justify_items": null,
            "left": null,
            "margin": null,
            "max_height": null,
            "max_width": null,
            "min_height": null,
            "min_width": null,
            "object_fit": null,
            "object_position": null,
            "order": null,
            "overflow": null,
            "overflow_x": null,
            "overflow_y": null,
            "padding": null,
            "right": null,
            "top": null,
            "visibility": null,
            "width": null
          }
        },
        "b2d1fd2a0f734e21899bbabbf33b3f7b": {
          "model_module": "@jupyter-widgets/base",
          "model_name": "LayoutModel",
          "model_module_version": "1.2.0",
          "state": {
            "_model_module": "@jupyter-widgets/base",
            "_model_module_version": "1.2.0",
            "_model_name": "LayoutModel",
            "_view_count": null,
            "_view_module": "@jupyter-widgets/base",
            "_view_module_version": "1.2.0",
            "_view_name": "LayoutView",
            "align_content": null,
            "align_items": null,
            "align_self": null,
            "border": null,
            "bottom": null,
            "display": null,
            "flex": null,
            "flex_flow": null,
            "grid_area": null,
            "grid_auto_columns": null,
            "grid_auto_flow": null,
            "grid_auto_rows": null,
            "grid_column": null,
            "grid_gap": null,
            "grid_row": null,
            "grid_template_areas": null,
            "grid_template_columns": null,
            "grid_template_rows": null,
            "height": null,
            "justify_content": null,
            "justify_items": null,
            "left": null,
            "margin": null,
            "max_height": null,
            "max_width": null,
            "min_height": null,
            "min_width": null,
            "object_fit": null,
            "object_position": null,
            "order": null,
            "overflow": null,
            "overflow_x": null,
            "overflow_y": null,
            "padding": null,
            "right": null,
            "top": null,
            "visibility": null,
            "width": null
          }
        },
        "e47aa439b1364faeb91960f09e49efa4": {
          "model_module": "@jupyter-widgets/controls",
          "model_name": "DescriptionStyleModel",
          "model_module_version": "1.5.0",
          "state": {
            "_model_module": "@jupyter-widgets/controls",
            "_model_module_version": "1.5.0",
            "_model_name": "DescriptionStyleModel",
            "_view_count": null,
            "_view_module": "@jupyter-widgets/base",
            "_view_module_version": "1.2.0",
            "_view_name": "StyleView",
            "description_width": ""
          }
        },
        "66a4cc3f358b4c9bbc9126d6d546a23e": {
          "model_module": "@jupyter-widgets/base",
          "model_name": "LayoutModel",
          "model_module_version": "1.2.0",
          "state": {
            "_model_module": "@jupyter-widgets/base",
            "_model_module_version": "1.2.0",
            "_model_name": "LayoutModel",
            "_view_count": null,
            "_view_module": "@jupyter-widgets/base",
            "_view_module_version": "1.2.0",
            "_view_name": "LayoutView",
            "align_content": null,
            "align_items": null,
            "align_self": null,
            "border": null,
            "bottom": null,
            "display": null,
            "flex": null,
            "flex_flow": null,
            "grid_area": null,
            "grid_auto_columns": null,
            "grid_auto_flow": null,
            "grid_auto_rows": null,
            "grid_column": null,
            "grid_gap": null,
            "grid_row": null,
            "grid_template_areas": null,
            "grid_template_columns": null,
            "grid_template_rows": null,
            "height": null,
            "justify_content": null,
            "justify_items": null,
            "left": null,
            "margin": null,
            "max_height": null,
            "max_width": null,
            "min_height": null,
            "min_width": null,
            "object_fit": null,
            "object_position": null,
            "order": null,
            "overflow": null,
            "overflow_x": null,
            "overflow_y": null,
            "padding": null,
            "right": null,
            "top": null,
            "visibility": null,
            "width": null
          }
        },
        "2270fc8aa46b44edb2325074b92702d1": {
          "model_module": "@jupyter-widgets/controls",
          "model_name": "ProgressStyleModel",
          "model_module_version": "1.5.0",
          "state": {
            "_model_module": "@jupyter-widgets/controls",
            "_model_module_version": "1.5.0",
            "_model_name": "ProgressStyleModel",
            "_view_count": null,
            "_view_module": "@jupyter-widgets/base",
            "_view_module_version": "1.2.0",
            "_view_name": "StyleView",
            "bar_color": null,
            "description_width": ""
          }
        },
        "4f4e49129ca240dc92c6e37ac372683c": {
          "model_module": "@jupyter-widgets/base",
          "model_name": "LayoutModel",
          "model_module_version": "1.2.0",
          "state": {
            "_model_module": "@jupyter-widgets/base",
            "_model_module_version": "1.2.0",
            "_model_name": "LayoutModel",
            "_view_count": null,
            "_view_module": "@jupyter-widgets/base",
            "_view_module_version": "1.2.0",
            "_view_name": "LayoutView",
            "align_content": null,
            "align_items": null,
            "align_self": null,
            "border": null,
            "bottom": null,
            "display": null,
            "flex": null,
            "flex_flow": null,
            "grid_area": null,
            "grid_auto_columns": null,
            "grid_auto_flow": null,
            "grid_auto_rows": null,
            "grid_column": null,
            "grid_gap": null,
            "grid_row": null,
            "grid_template_areas": null,
            "grid_template_columns": null,
            "grid_template_rows": null,
            "height": null,
            "justify_content": null,
            "justify_items": null,
            "left": null,
            "margin": null,
            "max_height": null,
            "max_width": null,
            "min_height": null,
            "min_width": null,
            "object_fit": null,
            "object_position": null,
            "order": null,
            "overflow": null,
            "overflow_x": null,
            "overflow_y": null,
            "padding": null,
            "right": null,
            "top": null,
            "visibility": null,
            "width": null
          }
        },
        "7eefe37cde8f47c1820bc68deba30c8c": {
          "model_module": "@jupyter-widgets/controls",
          "model_name": "DescriptionStyleModel",
          "model_module_version": "1.5.0",
          "state": {
            "_model_module": "@jupyter-widgets/controls",
            "_model_module_version": "1.5.0",
            "_model_name": "DescriptionStyleModel",
            "_view_count": null,
            "_view_module": "@jupyter-widgets/base",
            "_view_module_version": "1.2.0",
            "_view_name": "StyleView",
            "description_width": ""
          }
        }
      }
    }
  },
  "nbformat": 4,
  "nbformat_minor": 5
}