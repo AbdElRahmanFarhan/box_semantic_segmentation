{
 "cells": [
  {
   "cell_type": "code",
   "execution_count": 8,
   "id": "9f16b485",
   "metadata": {},
   "outputs": [],
   "source": [
    "from typing import List\n",
    "from abc import ABC, abstractmethod\n"
   ]
  },
  {
   "cell_type": "code",
   "execution_count": 14,
   "id": "d68d1f80",
   "metadata": {},
   "outputs": [],
   "source": [
    "class Address:\n",
    "    def __init__(self, street: str, street2: str, city: str, zipcode: str):\n",
    "        self.__street = street\n",
    "        self.__street2 = street2\n",
    "        self.__city = city\n",
    "        self.__zipcode = zipcode\n",
    "        \n",
    "class IPayRollCalculator(ABC):\n",
    "    @abstractmethod\n",
    "    def calculate_payroll(self) -> int:\n",
    "        pass\n",
    "\n",
    "class IRole(ABC):\n",
    "    @abstractmethod\n",
    "    def perform_duties(self, hours: int) -> None:\n",
    "        pass   \n",
    "    \n",
    "class Employee:\n",
    "    def __init__(self, id: int, name: str, address: Address, role: IRole, payroll: IPayRollCalculator, coworkers: List[Employee]):\n",
    "        self.__id = id\n",
    "        self.__name = name\n",
    "        self.__address = address\n",
    "        self.__role = role\n",
    "        self.__payroll = payroll\n",
    "        self.__IPayRollCalculator = IPayRollCalculator\n",
    "        self.__coworkers = coworkers\n",
    "\n",
    "class PayrollPolicy:\n",
    "    def __init__(self, hours_worked: int):\n",
    "        self.__hours_worked = hours_worked\n",
    "        \n",
    "    def track_work(self, hours: int) -> None:\n",
    "        return None\n",
    "\n",
    "class SalaryPolicy(PayrollPolicy, IPayRollCalculator):\n",
    "    def __init__(self, weekly_salary: int, hours_worked: int):\n",
    "        super().__init__(hours_worked)\n",
    "        \n",
    "    def calculate_payroll(self) -> int:\n",
    "        number = int()\n",
    "        return number\n",
    "class HourlyPolicy(PayrollPolicy, IPayRollCalculator):\n",
    "    def __init__(self, hour_rate: int, hours_worked: int):\n",
    "        super().__init__(hours_worked)\n",
    "        \n",
    "    def calculate_payroll(self) -> int:\n",
    "        number = int()\n",
    "        return number\n",
    "\n",
    "class SalesRole(IRole):\n",
    "    def perform_duties(self, hours: int) -> None:\n",
    "        return None\n",
    "    \n",
    "class ManagerRole(IRole):\n",
    "    def perform_duties(self, hours: int) -> None:\n",
    "        return None\n",
    "    \n",
    "class FactoryRole(IRole):\n",
    "    def perform_duties(self, hours: int) -> None:\n",
    "        return None"
   ]
  },
  {
   "cell_type": "code",
   "execution_count": 16,
   "id": "539c4fcb",
   "metadata": {},
   "outputs": [
    {
     "ename": "TypeError",
     "evalue": "isinstance expected 2 arguments, got 1",
     "output_type": "error",
     "traceback": [
      "\u001b[0;31m---------------------------------------------------------------------------\u001b[0m",
      "\u001b[0;31mTypeError\u001b[0m                                 Traceback (most recent call last)",
      "\u001b[0;32m/tmp/ipykernel_17043/1868349796.py\u001b[0m in \u001b[0;36m<module>\u001b[0;34m\u001b[0m\n\u001b[0;32m----> 1\u001b[0;31m \u001b[0misinstance\u001b[0m\u001b[0;34m(\u001b[0m\u001b[0mABC\u001b[0m\u001b[0;34m)\u001b[0m\u001b[0;34m\u001b[0m\u001b[0;34m\u001b[0m\u001b[0m\n\u001b[0m",
      "\u001b[0;31mTypeError\u001b[0m: isinstance expected 2 arguments, got 1"
     ]
    }
   ],
   "source": []
  },
  {
   "cell_type": "code",
   "execution_count": null,
   "id": "f8800434",
   "metadata": {},
   "outputs": [],
   "source": []
  }
 ],
 "metadata": {
  "kernelspec": {
   "display_name": "Python 3 (ipykernel)",
   "language": "python",
   "name": "python3"
  },
  "language_info": {
   "codemirror_mode": {
    "name": "ipython",
    "version": 3
   },
   "file_extension": ".py",
   "mimetype": "text/x-python",
   "name": "python",
   "nbconvert_exporter": "python",
   "pygments_lexer": "ipython3",
   "version": "3.8.10"
  }
 },
 "nbformat": 4,
 "nbformat_minor": 5
}
