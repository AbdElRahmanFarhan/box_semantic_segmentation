{
  "cells": [
    {
      "cell_type": "code",
      "execution_count": 1,
      "id": "539c4fcb",
      "metadata": {
        "colab": {
          "base_uri": "https://localhost:8080/"
        },
        "id": "539c4fcb",
        "outputId": "dcc05371-aa9b-4d91-f629-7b7bf942a913"
      },
      "outputs": [
        {
          "output_type": "stream",
          "name": "stdout",
          "text": [
            "Mounted at /content/drive\n"
          ]
        }
      ],
      "source": [
        "from google.colab import drive\n",
        "drive.mount('/content/drive')"
      ]
    },
    {
      "cell_type": "code",
      "source": [
        "import zipfile\n",
        "\n",
        "# Path to your zip file (replace with your file's path)\n",
        "zip_file_path = '/content/drive/MyDrive/OSCD.zip'\n",
        "dataset_folder = '/content/drive/MyDrive/OSCD/'\n",
        "\n",
        "with zipfile.ZipFile(zip_file_path, 'r') as zip_ref:\n",
        "    zip_ref.extractall(dataset_folder)\n",
        "\n",
        "print(f\"Unzipped to: {dataset_folder}\")"
      ],
      "metadata": {
        "colab": {
          "base_uri": "https://localhost:8080/"
        },
        "id": "tVioBrKYUq-B",
        "outputId": "755dbe32-b94d-484d-9916-6fd2d46aa6fb"
      },
      "id": "tVioBrKYUq-B",
      "execution_count": 4,
      "outputs": [
        {
          "output_type": "stream",
          "name": "stdout",
          "text": [
            "Unzipped to: /content/drive/MyDrive/OSCD/\n"
          ]
        }
      ]
    },
    {
      "cell_type": "code",
      "source": [
        "import torch\n",
        "from torchvision import datasets, transforms\n",
        "from torch.utils.data import DataLoader\n",
        "import os\n",
        "\n",
        "train_folder = os.path.join(dataset_folder, 'coco_carton/oneclass_carton/images/train2017')\n",
        "val_folder = os.path.join(dataset_folder, 'coco_carton/oneclass_carton/images/val2017')\n",
        "train_annotation = os.path.join(dataset_folder, 'coco_carton/oneclass_carton/annotations/instances_train2017.json')\n",
        "val_annotation = os.path.join(dataset_folder, 'coco_carton/oneclass_carton/annotations/instances_val2017.json')\n",
        "\n",
        "\n",
        "transform = transforms.Compose([\n",
        "    # transforms.Resize((512, 512)),\n",
        "    transforms.ToTensor()\n",
        "])\n",
        "\n",
        "train_dataset = datasets.CocoDetection(root=train_folder, annFile=train_annotation, transform=transform)\n",
        "val_dataset = datasets.CocoDetection(root=val_folder, annFile=val_annotation, transform=transform)"
      ],
      "metadata": {
        "colab": {
          "base_uri": "https://localhost:8080/"
        },
        "id": "I1nBV1DvVSIY",
        "outputId": "5d149f55-cab6-4e08-fab2-f0c1b5743b13"
      },
      "id": "I1nBV1DvVSIY",
      "execution_count": 21,
      "outputs": [
        {
          "output_type": "stream",
          "name": "stdout",
          "text": [
            "loading annotations into memory...\n",
            "Done (t=2.19s)\n",
            "creating index...\n",
            "index created!\n",
            "loading annotations into memory...\n",
            "Done (t=0.18s)\n",
            "creating index...\n",
            "index created!\n"
          ]
        }
      ]
    },
    {
      "cell_type": "code",
      "source": [
        "def collate_fn(batch):\n",
        "    images, targets = list(zip(*batch))\n",
        "    return images, targets\n",
        "train_loader = DataLoader(train_dataset, batch_size=32, shuffle=True, collate_fn=collate_fn)\n",
        "val_loader = DataLoader(val_dataset, batch_size=32, shuffle=False, collate_fn=collate_fn)"
      ],
      "metadata": {
        "id": "ALq-GQQgYS-b"
      },
      "id": "ALq-GQQgYS-b",
      "execution_count": 22,
      "outputs": []
    },
    {
      "cell_type": "code",
      "source": [
        "train_data = next(iter(train_loader))\n",
        "val_data = next(iter(val_loader))"
      ],
      "metadata": {
        "id": "QlaAKc28m8qy"
      },
      "id": "QlaAKc28m8qy",
      "execution_count": 23,
      "outputs": []
    },
    {
      "cell_type": "code",
      "source": [
        "img = train_data[0][12]\n",
        "target = train_data[1][12]\n",
        "print(img.shape)\n",
        "print(target)"
      ],
      "metadata": {
        "id": "8xJqhyqinJlA",
        "outputId": "835efcac-5a7d-40be-e519-cb6d05da8411",
        "colab": {
          "base_uri": "https://localhost:8080/"
        }
      },
      "id": "8xJqhyqinJlA",
      "execution_count": 32,
      "outputs": [
        {
          "output_type": "stream",
          "name": "stdout",
          "text": [
            "torch.Size([3, 500, 500])\n",
            "[{'id': 67327, 'image_id': 3372, 'category_id': 1, 'segmentation': [[180.2474226804124, 150.51546391752578, 0.0, 145.0, 0.0, 5.0, 176.63917525773195, 13.402061855670103]], 'bbox': [0, 5, 180.2474226804124, 145.51546391752578], 'iscrowd': 0, 'area': 26228.787331278567}, {'id': 67328, 'image_id': 3372, 'category_id': 1, 'segmentation': [[179.21649484536084, 13.917525773195877, 185.40206185567013, 152.57731958762886, 499.0, 153.0, 499.0, 17.0]], 'bbox': [179.21649484536084, 13.917525773195877, 319.78350515463916, 139.08247422680412], 'iscrowd': 0, 'area': 44476.281113827186}, {'id': 67329, 'image_id': 3372, 'category_id': 1, 'segmentation': [[183.340206185567, 151.54639175257734, 185.9175257731959, 275.77319587628864, 499.0, 277.0, 499.0, 155.0]], 'bbox': [183.340206185567, 151.54639175257734, 315.659793814433, 125.45360824742266], 'iscrowd': 0, 'area': 39600.660112658086}, {'id': 67330, 'image_id': 3372, 'category_id': 1, 'segmentation': [[180.76288659793818, 151.54639175257734, 0.0, 148.0, 0.0, 275.0, 181.79381443298968, 275.2577319587629]], 'bbox': [0, 148, 181.79381443298968, 127.25773195876292], 'iscrowd': 0, 'area': 23134.668508874485}, {'id': 67331, 'image_id': 3372, 'category_id': 1, 'segmentation': [[180.76288659793818, 276.8041237113402, 0.0, 273.0, 1.8969072164948386, 388.1443298969072, 179.73195876288662, 390.7216494845361]], 'bbox': [0, 273, 180.76288659793818, 117.7216494845361], 'iscrowd': 0, 'area': 21279.705175895426}, {'id': 67332, 'image_id': 3372, 'category_id': 1, 'segmentation': [[181.2783505154639, 390.7216494845361, 0.0, 387.0, 0.8659793814433101, 496.3917525773196, 180.2474226804124, 496.9072164948454]], 'bbox': [0, 387, 181.2783505154639, 109.90721649484539], 'iscrowd': 0, 'area': 19923.79891593156}, {'id': 67333, 'image_id': 3372, 'category_id': 1, 'segmentation': [[186.9484536082474, 495.36082474226805, 187.97938144329896, 390.2061855670103, 499.0, 395.0, 499.0, 493.0]], 'bbox': [186.9484536082474, 390.2061855670103, 312.0515463917526, 105.15463917525773], 'iscrowd': 0, 'area': 32813.66776490594}, {'id': 67334, 'image_id': 3372, 'category_id': 1, 'segmentation': [[184.37113402061857, 275.77319587628864, 499.0, 280.0, 499.0, 396.0, 184.37113402061857, 389.17525773195877]], 'bbox': [184.37113402061857, 275.77319587628864, 314.62886597938143, 120.22680412371136], 'iscrowd': 0, 'area': 37826.823041768526}]\n"
          ]
        }
      ]
    },
    {
      "cell_type": "code",
      "source": [
        "!pip install pycocotools"
      ],
      "metadata": {
        "id": "RIER9emSuxwG"
      },
      "id": "RIER9emSuxwG",
      "execution_count": null,
      "outputs": []
    },
    {
      "cell_type": "code",
      "source": [
        "import matplotlib.pyplot as plt\n",
        "import numpy as np\n",
        "from utils import polygons_to_mask\n",
        "\n",
        "def show_image_with_masks(image, target, image_height, image_width):\n",
        "    img = img.permute(1, 2, 0).cpu().numpy()\n",
        "\n",
        "    plt.figure(figsize=(12,12))\n",
        "    plt.imshow(img)\n",
        "\n",
        "    for obj in target:\n",
        "        segmentation = obj['segmentation']\n",
        "        mask = polygons_to_mask(segmentation, image_height, image_width)\n",
        "        plt.imshow(mask, alpha=0.5, cmap='jet')\n",
        "\n",
        "    plt.axis('off')\n",
        "    plt.show()"
      ],
      "metadata": {
        "id": "dYaXoOcRud1k"
      },
      "id": "dYaXoOcRud1k",
      "execution_count": null,
      "outputs": []
    }
  ],
  "metadata": {
    "kernelspec": {
      "display_name": "Python 3 (ipykernel)",
      "language": "python",
      "name": "python3"
    },
    "language_info": {
      "codemirror_mode": {
        "name": "ipython",
        "version": 3
      },
      "file_extension": ".py",
      "mimetype": "text/x-python",
      "name": "python",
      "nbconvert_exporter": "python",
      "pygments_lexer": "ipython3",
      "version": "3.8.10"
    },
    "colab": {
      "provenance": []
    }
  },
  "nbformat": 4,
  "nbformat_minor": 5
}