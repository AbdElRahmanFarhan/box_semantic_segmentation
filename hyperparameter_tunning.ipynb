{
  "cells": [
    {
      "cell_type": "markdown",
      "metadata": {
        "id": "view-in-github",
        "colab_type": "text"
      },
      "source": [
        "<a href=\"https://colab.research.google.com/github/AbdElRahmanFarhan/box_semantic_segmentation/blob/main/hyperparameter_tunning.ipynb\" target=\"_parent\"><img src=\"https://colab.research.google.com/assets/colab-badge.svg\" alt=\"Open In Colab\"/></a>"
      ]
    },
    {
      "cell_type": "code",
      "source": [
        "!pip install pycocotools\n",
        "!pip install coco-eval\n",
        "!pip install wandb"
      ],
      "metadata": {
        "colab": {
          "base_uri": "https://localhost:8080/"
        },
        "id": "vBgw1-zix1lq",
        "outputId": "8efef050-bdbd-44ce-fa6b-a91cfcd5d13d"
      },
      "id": "vBgw1-zix1lq",
      "execution_count": 31,
      "outputs": [
        {
          "output_type": "stream",
          "name": "stdout",
          "text": [
            "Requirement already satisfied: pycocotools in /usr/local/lib/python3.11/dist-packages (2.0.8)\n",
            "Requirement already satisfied: matplotlib>=2.1.0 in /usr/local/lib/python3.11/dist-packages (from pycocotools) (3.10.0)\n",
            "Requirement already satisfied: numpy in /usr/local/lib/python3.11/dist-packages (from pycocotools) (2.0.2)\n",
            "Requirement already satisfied: contourpy>=1.0.1 in /usr/local/lib/python3.11/dist-packages (from matplotlib>=2.1.0->pycocotools) (1.3.2)\n",
            "Requirement already satisfied: cycler>=0.10 in /usr/local/lib/python3.11/dist-packages (from matplotlib>=2.1.0->pycocotools) (0.12.1)\n",
            "Requirement already satisfied: fonttools>=4.22.0 in /usr/local/lib/python3.11/dist-packages (from matplotlib>=2.1.0->pycocotools) (4.57.0)\n",
            "Requirement already satisfied: kiwisolver>=1.3.1 in /usr/local/lib/python3.11/dist-packages (from matplotlib>=2.1.0->pycocotools) (1.4.8)\n",
            "Requirement already satisfied: packaging>=20.0 in /usr/local/lib/python3.11/dist-packages (from matplotlib>=2.1.0->pycocotools) (24.2)\n",
            "Requirement already satisfied: pillow>=8 in /usr/local/lib/python3.11/dist-packages (from matplotlib>=2.1.0->pycocotools) (11.2.1)\n",
            "Requirement already satisfied: pyparsing>=2.3.1 in /usr/local/lib/python3.11/dist-packages (from matplotlib>=2.1.0->pycocotools) (3.2.3)\n",
            "Requirement already satisfied: python-dateutil>=2.7 in /usr/local/lib/python3.11/dist-packages (from matplotlib>=2.1.0->pycocotools) (2.9.0.post0)\n",
            "Requirement already satisfied: six>=1.5 in /usr/local/lib/python3.11/dist-packages (from python-dateutil>=2.7->matplotlib>=2.1.0->pycocotools) (1.17.0)\n",
            "Requirement already satisfied: coco-eval in /usr/local/lib/python3.11/dist-packages (0.0.4)\n",
            "Requirement already satisfied: numpy in /usr/local/lib/python3.11/dist-packages (from coco-eval) (2.0.2)\n",
            "Requirement already satisfied: torch in /usr/local/lib/python3.11/dist-packages (from coco-eval) (2.6.0+cu124)\n",
            "Requirement already satisfied: pycocotools in /usr/local/lib/python3.11/dist-packages (from coco-eval) (2.0.8)\n",
            "Requirement already satisfied: matplotlib>=2.1.0 in /usr/local/lib/python3.11/dist-packages (from pycocotools->coco-eval) (3.10.0)\n",
            "Requirement already satisfied: filelock in /usr/local/lib/python3.11/dist-packages (from torch->coco-eval) (3.18.0)\n",
            "Requirement already satisfied: typing-extensions>=4.10.0 in /usr/local/lib/python3.11/dist-packages (from torch->coco-eval) (4.13.2)\n",
            "Requirement already satisfied: networkx in /usr/local/lib/python3.11/dist-packages (from torch->coco-eval) (3.4.2)\n",
            "Requirement already satisfied: jinja2 in /usr/local/lib/python3.11/dist-packages (from torch->coco-eval) (3.1.6)\n",
            "Requirement already satisfied: fsspec in /usr/local/lib/python3.11/dist-packages (from torch->coco-eval) (2025.3.2)\n",
            "Requirement already satisfied: nvidia-cuda-nvrtc-cu12==12.4.127 in /usr/local/lib/python3.11/dist-packages (from torch->coco-eval) (12.4.127)\n",
            "Requirement already satisfied: nvidia-cuda-runtime-cu12==12.4.127 in /usr/local/lib/python3.11/dist-packages (from torch->coco-eval) (12.4.127)\n",
            "Requirement already satisfied: nvidia-cuda-cupti-cu12==12.4.127 in /usr/local/lib/python3.11/dist-packages (from torch->coco-eval) (12.4.127)\n",
            "Requirement already satisfied: nvidia-cudnn-cu12==9.1.0.70 in /usr/local/lib/python3.11/dist-packages (from torch->coco-eval) (9.1.0.70)\n",
            "Requirement already satisfied: nvidia-cublas-cu12==12.4.5.8 in /usr/local/lib/python3.11/dist-packages (from torch->coco-eval) (12.4.5.8)\n",
            "Requirement already satisfied: nvidia-cufft-cu12==11.2.1.3 in /usr/local/lib/python3.11/dist-packages (from torch->coco-eval) (11.2.1.3)\n",
            "Requirement already satisfied: nvidia-curand-cu12==10.3.5.147 in /usr/local/lib/python3.11/dist-packages (from torch->coco-eval) (10.3.5.147)\n",
            "Requirement already satisfied: nvidia-cusolver-cu12==11.6.1.9 in /usr/local/lib/python3.11/dist-packages (from torch->coco-eval) (11.6.1.9)\n",
            "Requirement already satisfied: nvidia-cusparse-cu12==12.3.1.170 in /usr/local/lib/python3.11/dist-packages (from torch->coco-eval) (12.3.1.170)\n",
            "Requirement already satisfied: nvidia-cusparselt-cu12==0.6.2 in /usr/local/lib/python3.11/dist-packages (from torch->coco-eval) (0.6.2)\n",
            "Requirement already satisfied: nvidia-nccl-cu12==2.21.5 in /usr/local/lib/python3.11/dist-packages (from torch->coco-eval) (2.21.5)\n",
            "Requirement already satisfied: nvidia-nvtx-cu12==12.4.127 in /usr/local/lib/python3.11/dist-packages (from torch->coco-eval) (12.4.127)\n",
            "Requirement already satisfied: nvidia-nvjitlink-cu12==12.4.127 in /usr/local/lib/python3.11/dist-packages (from torch->coco-eval) (12.4.127)\n",
            "Requirement already satisfied: triton==3.2.0 in /usr/local/lib/python3.11/dist-packages (from torch->coco-eval) (3.2.0)\n",
            "Requirement already satisfied: sympy==1.13.1 in /usr/local/lib/python3.11/dist-packages (from torch->coco-eval) (1.13.1)\n",
            "Requirement already satisfied: mpmath<1.4,>=1.1.0 in /usr/local/lib/python3.11/dist-packages (from sympy==1.13.1->torch->coco-eval) (1.3.0)\n",
            "Requirement already satisfied: contourpy>=1.0.1 in /usr/local/lib/python3.11/dist-packages (from matplotlib>=2.1.0->pycocotools->coco-eval) (1.3.2)\n",
            "Requirement already satisfied: cycler>=0.10 in /usr/local/lib/python3.11/dist-packages (from matplotlib>=2.1.0->pycocotools->coco-eval) (0.12.1)\n",
            "Requirement already satisfied: fonttools>=4.22.0 in /usr/local/lib/python3.11/dist-packages (from matplotlib>=2.1.0->pycocotools->coco-eval) (4.57.0)\n",
            "Requirement already satisfied: kiwisolver>=1.3.1 in /usr/local/lib/python3.11/dist-packages (from matplotlib>=2.1.0->pycocotools->coco-eval) (1.4.8)\n",
            "Requirement already satisfied: packaging>=20.0 in /usr/local/lib/python3.11/dist-packages (from matplotlib>=2.1.0->pycocotools->coco-eval) (24.2)\n",
            "Requirement already satisfied: pillow>=8 in /usr/local/lib/python3.11/dist-packages (from matplotlib>=2.1.0->pycocotools->coco-eval) (11.2.1)\n",
            "Requirement already satisfied: pyparsing>=2.3.1 in /usr/local/lib/python3.11/dist-packages (from matplotlib>=2.1.0->pycocotools->coco-eval) (3.2.3)\n",
            "Requirement already satisfied: python-dateutil>=2.7 in /usr/local/lib/python3.11/dist-packages (from matplotlib>=2.1.0->pycocotools->coco-eval) (2.9.0.post0)\n",
            "Requirement already satisfied: MarkupSafe>=2.0 in /usr/local/lib/python3.11/dist-packages (from jinja2->torch->coco-eval) (3.0.2)\n",
            "Requirement already satisfied: six>=1.5 in /usr/local/lib/python3.11/dist-packages (from python-dateutil>=2.7->matplotlib>=2.1.0->pycocotools->coco-eval) (1.17.0)\n",
            "Requirement already satisfied: wandb in /usr/local/lib/python3.11/dist-packages (0.19.10)\n",
            "Requirement already satisfied: click!=8.0.0,>=7.1 in /usr/local/lib/python3.11/dist-packages (from wandb) (8.1.8)\n",
            "Requirement already satisfied: docker-pycreds>=0.4.0 in /usr/local/lib/python3.11/dist-packages (from wandb) (0.4.0)\n",
            "Requirement already satisfied: gitpython!=3.1.29,>=1.0.0 in /usr/local/lib/python3.11/dist-packages (from wandb) (3.1.44)\n",
            "Requirement already satisfied: platformdirs in /usr/local/lib/python3.11/dist-packages (from wandb) (4.3.7)\n",
            "Requirement already satisfied: protobuf!=4.21.0,!=5.28.0,<7,>=3.19.0 in /usr/local/lib/python3.11/dist-packages (from wandb) (5.29.4)\n",
            "Requirement already satisfied: psutil>=5.0.0 in /usr/local/lib/python3.11/dist-packages (from wandb) (5.9.5)\n",
            "Requirement already satisfied: pydantic<3 in /usr/local/lib/python3.11/dist-packages (from wandb) (2.11.3)\n",
            "Requirement already satisfied: pyyaml in /usr/local/lib/python3.11/dist-packages (from wandb) (6.0.2)\n",
            "Requirement already satisfied: requests<3,>=2.0.0 in /usr/local/lib/python3.11/dist-packages (from wandb) (2.32.3)\n",
            "Requirement already satisfied: sentry-sdk>=2.0.0 in /usr/local/lib/python3.11/dist-packages (from wandb) (2.27.0)\n",
            "Requirement already satisfied: setproctitle in /usr/local/lib/python3.11/dist-packages (from wandb) (1.3.5)\n",
            "Requirement already satisfied: setuptools in /usr/local/lib/python3.11/dist-packages (from wandb) (75.2.0)\n",
            "Requirement already satisfied: typing-extensions<5,>=4.4 in /usr/local/lib/python3.11/dist-packages (from wandb) (4.13.2)\n",
            "Requirement already satisfied: six>=1.4.0 in /usr/local/lib/python3.11/dist-packages (from docker-pycreds>=0.4.0->wandb) (1.17.0)\n",
            "Requirement already satisfied: gitdb<5,>=4.0.1 in /usr/local/lib/python3.11/dist-packages (from gitpython!=3.1.29,>=1.0.0->wandb) (4.0.12)\n",
            "Requirement already satisfied: annotated-types>=0.6.0 in /usr/local/lib/python3.11/dist-packages (from pydantic<3->wandb) (0.7.0)\n",
            "Requirement already satisfied: pydantic-core==2.33.1 in /usr/local/lib/python3.11/dist-packages (from pydantic<3->wandb) (2.33.1)\n",
            "Requirement already satisfied: typing-inspection>=0.4.0 in /usr/local/lib/python3.11/dist-packages (from pydantic<3->wandb) (0.4.0)\n",
            "Requirement already satisfied: charset-normalizer<4,>=2 in /usr/local/lib/python3.11/dist-packages (from requests<3,>=2.0.0->wandb) (3.4.1)\n",
            "Requirement already satisfied: idna<4,>=2.5 in /usr/local/lib/python3.11/dist-packages (from requests<3,>=2.0.0->wandb) (3.10)\n",
            "Requirement already satisfied: urllib3<3,>=1.21.1 in /usr/local/lib/python3.11/dist-packages (from requests<3,>=2.0.0->wandb) (2.4.0)\n",
            "Requirement already satisfied: certifi>=2017.4.17 in /usr/local/lib/python3.11/dist-packages (from requests<3,>=2.0.0->wandb) (2025.1.31)\n",
            "Requirement already satisfied: smmap<6,>=3.0.1 in /usr/local/lib/python3.11/dist-packages (from gitdb<5,>=4.0.1->gitpython!=3.1.29,>=1.0.0->wandb) (5.0.2)\n"
          ]
        }
      ]
    },
    {
      "cell_type": "code",
      "source": [
        "import os\n",
        "import wandb\n",
        "os.environ['CUDA_LAUNCH_BLOCKING'] = \"1\"\n",
        "\n",
        "from google.colab import drive\n",
        "drive.mount('/content/drive')\n",
        "wandb.login()"
      ],
      "metadata": {
        "colab": {
          "base_uri": "https://localhost:8080/"
        },
        "id": "p0EhUEYrLbr7",
        "outputId": "d8378418-7a8d-4f17-9d9f-ed7c909095e6"
      },
      "id": "p0EhUEYrLbr7",
      "execution_count": 32,
      "outputs": [
        {
          "output_type": "stream",
          "name": "stdout",
          "text": [
            "Drive already mounted at /content/drive; to attempt to forcibly remount, call drive.mount(\"/content/drive\", force_remount=True).\n"
          ]
        },
        {
          "output_type": "execute_result",
          "data": {
            "text/plain": [
              "True"
            ]
          },
          "metadata": {},
          "execution_count": 32
        }
      ]
    },
    {
      "cell_type": "code",
      "source": [
        "import zipfile\n",
        "\n",
        "zip_file_path = '/content/drive/MyDrive/OSCD.zip'\n",
        "dataset_folder = '/content/drive/MyDrive/OSCD/'\n",
        "\n",
        "if len(os.listdir(dataset_folder)) == 0:\n",
        "  with zipfile.ZipFile(zip_file_path, 'r') as zip_ref:\n",
        "      zip_ref.extractall(dataset_folder)\n",
        "\n",
        "  print(f\"Unzipped to: {dataset_folder}\")"
      ],
      "metadata": {
        "id": "tVioBrKYUq-B"
      },
      "id": "tVioBrKYUq-B",
      "execution_count": 33,
      "outputs": []
    },
    {
      "cell_type": "code",
      "source": [
        "import torch\n",
        "from torchvision import datasets, transforms\n",
        "from torch.utils.data import DataLoader\n",
        "\n",
        "train_folder = os.path.join(dataset_folder, 'coco_carton/oneclass_carton/images/train2017')\n",
        "val_folder = os.path.join(dataset_folder, 'coco_carton/oneclass_carton/images/val2017')\n",
        "train_annotation = os.path.join(dataset_folder, 'coco_carton/oneclass_carton/annotations/instances_train2017.json')\n",
        "val_annotation = os.path.join(dataset_folder, 'coco_carton/oneclass_carton/annotations/instances_val2017.json')"
      ],
      "metadata": {
        "id": "I1nBV1DvVSIY"
      },
      "id": "I1nBV1DvVSIY",
      "execution_count": 34,
      "outputs": []
    },
    {
      "cell_type": "code",
      "source": [
        "import torch\n",
        "from torchvision.datasets import CocoDetection\n",
        "import torchvision.transforms as T\n",
        "from PIL import Image\n",
        "from torchvision.tv_tensors import Mask\n",
        "from torchvision.transforms.functional import to_tensor\n",
        "from skimage.draw import polygon as sk_polygon\n",
        "\n",
        "\n",
        "class OSCDDataset(CocoDetection):\n",
        "    def __init__(self, img_folder, ann_file):\n",
        "        super().__init__(img_folder, ann_file, transforms=None)\n",
        "\n",
        "    def __len__(self) -> int:\n",
        "       return super().__len__()\n",
        "\n",
        "    def __getitem__(self, idx):\n",
        "        img, anns = super().__getitem__(idx)\n",
        "\n",
        "        if anns:\n",
        "          labels = []\n",
        "          areas = []\n",
        "          iscrowd = []\n",
        "          masks = []\n",
        "          boxes = []\n",
        "          ids = []\n",
        "          for ann in anns:\n",
        "              x, y, w, h = list(map(int, ann['bbox']))\n",
        "              boxes.append([x, y, x + w, y + h])\n",
        "              labels.append(ann['category_id'])\n",
        "              areas.append(ann['area'])\n",
        "              iscrowd.append(ann['iscrowd'])\n",
        "              mask = self.get_mask(ann['segmentation'], img.size[1], img.size[0])\n",
        "              masks.append(mask)\n",
        "              ids.append(ann['id'])\n",
        "\n",
        "          labels = torch.tensor(labels, dtype=torch.int64)\n",
        "          areas = torch.tensor(areas, dtype=torch.float32)\n",
        "          iscrowd = torch.tensor(iscrowd, dtype=torch.uint8)\n",
        "          boxes = torch.tensor(boxes, dtype=torch.int64)\n",
        "          masks = torch.stack(masks, dim=0)\n",
        "          ids = torch.tensor(ids, dtype=torch.int64)\n",
        "          img_id = torch.tensor(ann['image_id'], dtype=torch.int64)\n",
        "\n",
        "          target = {\n",
        "              \"boxes\": boxes,\n",
        "              \"labels\": labels,\n",
        "              \"image_id\": img_id,\n",
        "              \"ids\": ids,\n",
        "              \"area\": areas, # TODO: is it area or areas\n",
        "              \"iscrowd\": iscrowd,\n",
        "              \"masks\": Mask(masks),\n",
        "          }\n",
        "        else:\n",
        "          target = {}\n",
        "        img = to_tensor(img)\n",
        "        return img, target\n",
        "\n",
        "    def get_mask(self, segmentation, height, width):\n",
        "        mask = torch.zeros((height, width), dtype=torch.bool)\n",
        "        poly_x = segmentation[0][::2]\n",
        "        poly_y = segmentation[0][1::2]\n",
        "        rr, cc = sk_polygon(poly_y, poly_x, shape=(height, width))\n",
        "        mask[rr, cc] = 1\n",
        "        return mask\n"
      ],
      "metadata": {
        "id": "b8nnnWtw4QZ_"
      },
      "id": "b8nnnWtw4QZ_",
      "execution_count": 35,
      "outputs": []
    },
    {
      "cell_type": "code",
      "source": [
        "train_dataset = OSCDDataset(train_folder, train_annotation)\n",
        "val_dataset = OSCDDataset(val_folder, val_annotation)\n",
        "train_dataset_small = torch.utils.data.Subset(train_dataset, list(range(100)))\n",
        "val_dataset_small = torch.utils.data.Subset(val_dataset, list(range(10)))"
      ],
      "metadata": {
        "colab": {
          "base_uri": "https://localhost:8080/"
        },
        "id": "lfqBVyFN7_eL",
        "outputId": "b940df0a-048a-45ab-f6aa-33318d469c99"
      },
      "id": "lfqBVyFN7_eL",
      "execution_count": 36,
      "outputs": [
        {
          "output_type": "stream",
          "name": "stdout",
          "text": [
            "loading annotations into memory...\n",
            "Done (t=1.56s)\n",
            "creating index...\n",
            "index created!\n",
            "loading annotations into memory...\n",
            "Done (t=0.14s)\n",
            "creating index...\n",
            "index created!\n"
          ]
        }
      ]
    },
    {
      "cell_type": "code",
      "source": [
        "def collate_fn(batch):\n",
        "    images, targets = [], []\n",
        "    for (image, target) in batch:\n",
        "      if not target:\n",
        "        continue\n",
        "      else:\n",
        "        images.append(image)\n",
        "        targets.append(target)\n",
        "    return images, targets"
      ],
      "metadata": {
        "id": "ALq-GQQgYS-b"
      },
      "id": "ALq-GQQgYS-b",
      "execution_count": 37,
      "outputs": []
    },
    {
      "cell_type": "code",
      "source": [
        "import torchvision\n",
        "from torchvision.models.detection.faster_rcnn import FastRCNNPredictor\n",
        "from torchvision.models.detection.mask_rcnn import MaskRCNNPredictor\n",
        "\n",
        "model = torchvision.models.detection.maskrcnn_resnet50_fpn(weights=\"DEFAULT\")\n",
        "in_features = model.roi_heads.box_predictor.cls_score.in_features\n",
        "model.roi_heads.box_predictor = FastRCNNPredictor(in_features, 2)\n",
        "\n",
        "in_features_mask = model.roi_heads.mask_predictor.conv5_mask.in_channels\n",
        "model.roi_heads.mask_predictor = MaskRCNNPredictor(in_features_mask, 256, 2)"
      ],
      "metadata": {
        "id": "mAlUQafMhHWU"
      },
      "id": "mAlUQafMhHWU",
      "execution_count": 38,
      "outputs": []
    },
    {
      "cell_type": "code",
      "source": [
        "device = torch.device('cuda') if torch.cuda.is_available() else torch.device('cpu')\n",
        "print(device)"
      ],
      "metadata": {
        "colab": {
          "base_uri": "https://localhost:8080/"
        },
        "id": "K6Xxv1Y0vhst",
        "outputId": "af9365cf-c759-4a15-92dd-e67dafed1642"
      },
      "id": "K6Xxv1Y0vhst",
      "execution_count": 39,
      "outputs": [
        {
          "output_type": "stream",
          "name": "stdout",
          "text": [
            "cuda\n"
          ]
        }
      ]
    },
    {
      "cell_type": "code",
      "source": [
        "import math\n",
        "from tqdm.auto import tqdm\n",
        "from torch.amp import autocast, GradScaler\n",
        "\n",
        "def run_epoch(model, dataloader, optimizer, lr_scheduler, device, scaler, is_training):\n",
        "    model.train()\n",
        "    epoch_loss = 0\n",
        "    progress_bar = tqdm(total=len(dataloader), desc=\"Train\" if is_training else \"Valid\")  # Initialize a progress bar\n",
        "    batch_counter = 0\n",
        "    for batch_id, (images, targets) in enumerate(dataloader):\n",
        "        images = [image.to(device) for image in images]\n",
        "        targets = [{k: v.to(device) for k, v in t.items()} for t in targets]\n",
        "        if len(targets) == 0:\n",
        "          continue\n",
        "        batch_counter += 1\n",
        "        with autocast(device.type):\n",
        "            if is_training:\n",
        "                losses = model(images, targets)\n",
        "            else:\n",
        "                with torch.no_grad():\n",
        "                    losses = model(images, targets)\n",
        "\n",
        "            loss = sum([loss for loss in losses.values()])\n",
        "\n",
        "        if is_training:\n",
        "            if scaler:\n",
        "                scaler.scale(loss).backward()\n",
        "                scaler.step(optimizer)\n",
        "                old_scaler = scaler.get_scale()\n",
        "                scaler.update()\n",
        "                new_scaler = scaler.get_scale()\n",
        "                if new_scaler >= old_scaler:\n",
        "                    lr_scheduler.step()\n",
        "            else:\n",
        "                loss.backward()\n",
        "                optimizer.step()\n",
        "                lr_scheduler.step()\n",
        "\n",
        "            optimizer.zero_grad()\n",
        "\n",
        "        loss_item = loss.item()\n",
        "        epoch_loss += loss_item\n",
        "\n",
        "        progress_bar_dict = dict(loss=loss_item, avg_loss=epoch_loss/(batch_counter+1))\n",
        "        if is_training:\n",
        "            progress_bar_dict.update(lr=lr_scheduler.get_last_lr()[0])\n",
        "        progress_bar.set_postfix(progress_bar_dict)\n",
        "        progress_bar.update()\n",
        "\n",
        "    progress_bar.close()\n",
        "\n",
        "    return epoch_loss / (batch_counter + 1)"
      ],
      "metadata": {
        "id": "CJAiEWO6WzXO"
      },
      "id": "CJAiEWO6WzXO",
      "execution_count": 40,
      "outputs": []
    },
    {
      "cell_type": "code",
      "source": [
        "sweep_config = {\n",
        "    'method': 'random'\n",
        "    }\n",
        "\n",
        "metric = {\n",
        "    'name': 'val_loss',\n",
        "    'goal': 'minimize'\n",
        "    }\n",
        "\n",
        "sweep_config['metric'] = metric\n",
        "parameters_dict = {\n",
        "    'epochs': {\n",
        "        'values': [4]\n",
        "        },\n",
        "    'lr': {\n",
        "        'values': [5e-5]\n",
        "        },\n",
        "    'bs': {\n",
        "          'values': [1, 2]\n",
        "        },\n",
        "    }\n",
        "\n",
        "sweep_config['parameters'] = parameters_dict"
      ],
      "metadata": {
        "id": "fCxX_I_2EWcU"
      },
      "id": "fCxX_I_2EWcU",
      "execution_count": 46,
      "outputs": []
    },
    {
      "cell_type": "code",
      "source": [
        "sweep_id = wandb.sweep(sweep_config, project=\"box_segmentation\")"
      ],
      "metadata": {
        "colab": {
          "base_uri": "https://localhost:8080/",
          "height": 69
        },
        "id": "U4mB2Dm_EgRu",
        "outputId": "87b2bcb2-6372-4d9a-b25f-3d8078ec2805"
      },
      "id": "U4mB2Dm_EgRu",
      "execution_count": 47,
      "outputs": [
        {
          "output_type": "display_data",
          "data": {
            "text/plain": [
              "<IPython.core.display.HTML object>"
            ],
            "text/html": [
              "updating run config (9.7s)"
            ]
          },
          "metadata": {}
        },
        {
          "output_type": "stream",
          "name": "stdout",
          "text": [
            "Create sweep with ID: 8imr9y18\n",
            "Sweep URL: https://wandb.ai/abdelrahman-farhan/box_segmentation/sweeps/8imr9y18\n"
          ]
        }
      ]
    },
    {
      "cell_type": "code",
      "source": [
        "from torch.optim import AdamW\n",
        "import datetime\n",
        "\n",
        "def train(config=None):\n",
        "  with wandb.init(config=config):\n",
        "    config = wandb.config\n",
        "    lr = config.lr\n",
        "    epochs = config.epochs\n",
        "    bs = config.bs\n",
        "\n",
        "    model.to(device)\n",
        "    params = [p for p in model.parameters() if p.requires_grad]\n",
        "    optimizer = torch.optim.AdamW(params, lr=lr)\n",
        "    train_loader = DataLoader(train_dataset, batch_size=1, shuffle=True, collate_fn=collate_fn, pin_memory=True, num_workers=2)\n",
        "    val_loader = DataLoader(val_dataset, batch_size=1, shuffle=True, collate_fn=collate_fn, pin_memory=True)\n",
        "\n",
        "    # train_loader = DataLoader(train_dataset_small, batch_size=bs, shuffle=True, collate_fn=collate_fn, pin_memory=True, num_workers=2)\n",
        "    # val_loader = DataLoader(val_dataset_small, batch_size=bs, shuffle=True, collate_fn=collate_fn, pin_memory=True)\n",
        "\n",
        "    lr_scheduler = torch.optim.lr_scheduler.OneCycleLR(optimizer,\n",
        "                                                      max_lr=lr,\n",
        "                                                      total_steps=epochs*len(train_loader))\n",
        "    # lr_scheduler = torch.optim.lr_scheduler.StepLR(optimizer, step_size=lr_step, gamma=gamma)\n",
        "\n",
        "    scaler = GradScaler()\n",
        "    for epoch in tqdm(range(epochs), desc=\"Epochs\"):\n",
        "\n",
        "        train_loss = run_epoch(model, train_loader, optimizer, lr_scheduler, device, scaler, is_training=True)\n",
        "\n",
        "        with torch.no_grad():\n",
        "            valid_loss = run_epoch(model, val_loader, None, None, device, scaler, is_training=False)\n",
        "        # lr_scheduler.step()\n",
        "        wandb.log({\"train_loss\": train_loss, 'val_loss': valid_loss, 'lr': lr_scheduler.get_last_lr()[0]})\n",
        "\n",
        "    timestamp = datetime.datetime.now().strftime(\"%Y-%m-%d_%H-%M-%S\")\n",
        "    model_path = os.path.join(dataset_folder, 'model', f'model_{timestamp}_{wandb.run.sweep_id}.pth')\n",
        "    torch.save(model.state_dict(), model_path)"
      ],
      "metadata": {
        "id": "uvgNzhCcYAFD"
      },
      "id": "uvgNzhCcYAFD",
      "execution_count": 48,
      "outputs": []
    },
    {
      "cell_type": "code",
      "source": [
        "wandb.agent(sweep_id, train, count=2)"
      ],
      "metadata": {
        "colab": {
          "base_uri": "https://localhost:8080/",
          "height": 86
        },
        "id": "w7fMbRGLGtFq",
        "outputId": "9741eca5-cb1a-43f3-c7e1-c3ac5c49a8fb"
      },
      "id": "w7fMbRGLGtFq",
      "execution_count": 49,
      "outputs": [
        {
          "output_type": "stream",
          "name": "stderr",
          "text": [
            "\u001b[34m\u001b[1mwandb\u001b[0m: \u001b[33mWARNING\u001b[0m Calling wandb.login() after wandb.init() has no effect.\n"
          ]
        },
        {
          "output_type": "display_data",
          "data": {
            "text/plain": [
              "<IPython.core.display.HTML object>"
            ],
            "text/html": [
              "updating run config (12s)"
            ]
          },
          "metadata": {}
        },
        {
          "output_type": "stream",
          "name": "stderr",
          "text": [
            "\u001b[34m\u001b[1mwandb\u001b[0m: \u001b[32m\u001b[41mERROR\u001b[0m Problem finishing run\n",
            "\u001b[34m\u001b[1mwandb\u001b[0m: Ctrl + C detected. Stopping sweep.\n"
          ]
        }
      ]
    },
    {
      "cell_type": "code",
      "source": [
        "# import matplotlib.pyplot as plt\n",
        "# from torchvision.utils import draw_bounding_boxes, draw_segmentation_masks\n",
        "\n",
        "# model.to(device)\n",
        "# model.eval()\n",
        "# images, targets = next(iter(val_loader))\n",
        "# images = [image.to(device) for image in images]\n",
        "# targets = [{k: v.to(device) for k, v in t.items()} for t in targets]\n",
        "# preds = model(images)\n",
        "# img = images[0]\n",
        "\n",
        "# pred = preds[0]\n",
        "# pred_boxes = pred[\"boxes\"]\n",
        "# pred_labels = pred[\"labels\"]\n",
        "\n",
        "# # plt_img = draw_bounding_boxes(img, pred_boxes, colors=\"red\")\n",
        "# masks = (pred[\"masks\"] > 0.7).squeeze(1)\n",
        "# plt_img = draw_segmentation_masks(img, masks, alpha=0.5, colors=\"blue\")\n",
        "# plt.figure(figsize=(12, 12))\n",
        "# plt.imshow(plt_img.cpu().permute(1, 2, 0))\n",
        "# plt.axis('off')\n",
        "# plt.show()\n",
        "\n",
        "# target = targets[0]\n",
        "# target_boxes = pred[\"boxes\"]\n",
        "# target_labels = pred[\"labels\"]\n",
        "# # plt_img = draw_bounding_boxes(img, target_boxes, colors=\"red\")\n",
        "# masks = (target[\"masks\"] > 0.7).squeeze(1)\n",
        "# plt_img = draw_segmentation_masks(img, masks, alpha=0.5, colors=\"blue\")\n",
        "# plt.figure(figsize=(12, 12))\n",
        "# plt.imshow(plt_img.cpu().permute(1, 2, 0))\n",
        "# plt.axis('off')\n",
        "# plt.show()"
      ],
      "metadata": {
        "id": "FUUolkrBBgMU"
      },
      "id": "FUUolkrBBgMU",
      "execution_count": 45,
      "outputs": []
    },
    {
      "cell_type": "code",
      "source": [],
      "metadata": {
        "id": "kHp7MAYABg9-"
      },
      "id": "kHp7MAYABg9-",
      "execution_count": 45,
      "outputs": []
    }
  ],
  "metadata": {
    "kernelspec": {
      "display_name": "Python 3",
      "name": "python3"
    },
    "language_info": {
      "codemirror_mode": {
        "name": "ipython",
        "version": 3
      },
      "file_extension": ".py",
      "mimetype": "text/x-python",
      "name": "python",
      "nbconvert_exporter": "python",
      "pygments_lexer": "ipython3",
      "version": "3.8.10"
    },
    "colab": {
      "provenance": [],
      "gpuType": "L4",
      "include_colab_link": true
    },
    "accelerator": "GPU"
  },
  "nbformat": 4,
  "nbformat_minor": 5
}